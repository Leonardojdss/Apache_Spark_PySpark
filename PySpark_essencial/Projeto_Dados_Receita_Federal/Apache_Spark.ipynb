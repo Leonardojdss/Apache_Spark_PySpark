{
 "cells": [
  {
   "cell_type": "markdown",
   "metadata": {},
   "source": [
    "# INTRODUÇÃO AO APACHE SPARK"
   ]
  },
  {
   "cell_type": "markdown",
   "metadata": {},
   "source": [
    "### Tutorial para instalar java e spark usando o SO LINUX no WSL ou LINUX comum\n",
    "\n",
    "Tutorial detalhado para instalar java (java-8-openjdk-amd64) e spark (spark-3.5.1-bin-hadoop3) Utilizando o SO linux, seja em uma camada WSL ou não.\n",
    "\n",
    "    1 - Instale o JDK JAVA, se não possuir.\n",
    "    2 - Instale arquivos do Spark, se não possuir.\n",
    "    3 - Crie as variáveis de ambiente SPARK_HOME e JAVA_HOME\n",
    "\n",
    "link com detalhando os passos acima - https://www.alura.com.br/artigos/iniciando-projeto-spark-no-colab\n",
    "\n",
    "* Neste link possui um tutorial voltando para usuários do google colab tambem!"
   ]
  },
  {
   "cell_type": "code",
   "execution_count": 127,
   "metadata": {},
   "outputs": [],
   "source": [
    "# Criar uma variável de ambiente apontando para a instalacao do spark e java no SO linux\n",
    "\n",
    "import os \n",
    "\n",
    "os.environ[\"SPARK_HOME\"] = \"/home/leonardojdss/spark/spark-3.5.1-bin-hadoop3\"\n",
    "os.environ[\"JAVA_HOME\"] = \"/usr/lib/jvm/java-8-openjdk-amd64\""
   ]
  },
  {
   "cell_type": "markdown",
   "metadata": {},
   "source": [
    "### Tutorial para instalar java e spark usando o SO Windows\n",
    "\n",
    "Para usuários do SO Windows 10 em diante recomendo seguir o tutorial do link anexado.\n",
    "\n",
    "link - https://romeritomorais.medium.com/instalacao-configuracao-e-teste-do-apache-spark-no-windows-11-a11beb19eb0a"
   ]
  },
  {
   "cell_type": "markdown",
   "metadata": {},
   "source": [
    "# 0 - INSTANCIANDO O SPARK"
   ]
  },
  {
   "cell_type": "code",
   "execution_count": 128,
   "metadata": {},
   "outputs": [],
   "source": [
    "# Importa a biblioteca findspark, que facilita a configuração do PySpark no Python\n",
    "import findspark\n",
    "\n",
    "# Inicializa o findspark para configurar o ambiente do Spark\n",
    "findspark.init()\n",
    "\n",
    "# Importa SparkSession da biblioteca pyspark.sql\n",
    "from pyspark.sql import SparkSession\n",
    "\n",
    "# Cria uma instância de SparkSession\n",
    "spark = SparkSession\\\n",
    "    .builder\\\n",
    "    .master('local[*]')\\\n",
    "    .getOrCreate()"
   ]
  },
  {
   "cell_type": "code",
   "execution_count": 129,
   "metadata": {},
   "outputs": [
    {
     "data": {
      "text/html": [
       "\n",
       "            <div>\n",
       "                <p><b>SparkSession - in-memory</b></p>\n",
       "                \n",
       "        <div>\n",
       "            <p><b>SparkContext</b></p>\n",
       "\n",
       "            <p><a href=\"http://172.24.73.240:4040\">Spark UI</a></p>\n",
       "\n",
       "            <dl>\n",
       "              <dt>Version</dt>\n",
       "                <dd><code>v3.5.1</code></dd>\n",
       "              <dt>Master</dt>\n",
       "                <dd><code>local[*]</code></dd>\n",
       "              <dt>AppName</dt>\n",
       "                <dd><code>pyspark-shell</code></dd>\n",
       "            </dl>\n",
       "        </div>\n",
       "        \n",
       "            </div>\n",
       "        "
      ],
      "text/plain": [
       "<pyspark.sql.session.SparkSession at 0x7f3121c582e0>"
      ]
     },
     "execution_count": 129,
     "metadata": {},
     "output_type": "execute_result"
    }
   ],
   "source": [
    "# Visualizar a sessão spark criada\n",
    "spark"
   ]
  },
  {
   "cell_type": "markdown",
   "metadata": {},
   "source": [
    "# 1 - CARREGAR DADOS COM SPARK"
   ]
  },
  {
   "cell_type": "markdown",
   "metadata": {},
   "source": [
    "### 1.1 Criando um DataFrame"
   ]
  },
  {
   "cell_type": "code",
   "execution_count": 130,
   "metadata": {},
   "outputs": [
    {
     "data": {
      "text/plain": [
       "DataFrame[Nome: string, Idade: string]"
      ]
     },
     "execution_count": 130,
     "metadata": {},
     "output_type": "execute_result"
    }
   ],
   "source": [
    "# Metodo simples criando seu dataset\n",
    "data = [('Zeca', '35'), ('Eva', '29')] # Lista\n",
    "colnames = ['Nome', 'Idade']\n",
    "\n",
    "df = spark.createDataFrame(data, colnames)\n",
    "df"
   ]
  },
  {
   "cell_type": "code",
   "execution_count": 131,
   "metadata": {},
   "outputs": [
    {
     "name": "stderr",
     "output_type": "stream",
     "text": [
      "                                                                                \r"
     ]
    },
    {
     "name": "stdout",
     "output_type": "stream",
     "text": [
      "+----+-----+\n",
      "|Nome|Idade|\n",
      "+----+-----+\n",
      "|Zeca|   35|\n",
      "| Eva|   29|\n",
      "+----+-----+\n",
      "\n"
     ]
    }
   ],
   "source": [
    "# Visualização do dataset criado\n",
    "df.show()"
   ]
  },
  {
   "cell_type": "code",
   "execution_count": 132,
   "metadata": {},
   "outputs": [
    {
     "data": {
      "text/html": [
       "<div>\n",
       "<style scoped>\n",
       "    .dataframe tbody tr th:only-of-type {\n",
       "        vertical-align: middle;\n",
       "    }\n",
       "\n",
       "    .dataframe tbody tr th {\n",
       "        vertical-align: top;\n",
       "    }\n",
       "\n",
       "    .dataframe thead th {\n",
       "        text-align: right;\n",
       "    }\n",
       "</style>\n",
       "<table border=\"1\" class=\"dataframe\">\n",
       "  <thead>\n",
       "    <tr style=\"text-align: right;\">\n",
       "      <th></th>\n",
       "      <th>Nome</th>\n",
       "      <th>Idade</th>\n",
       "    </tr>\n",
       "  </thead>\n",
       "  <tbody>\n",
       "    <tr>\n",
       "      <th>0</th>\n",
       "      <td>Zeca</td>\n",
       "      <td>35</td>\n",
       "    </tr>\n",
       "    <tr>\n",
       "      <th>1</th>\n",
       "      <td>Eva</td>\n",
       "      <td>29</td>\n",
       "    </tr>\n",
       "  </tbody>\n",
       "</table>\n",
       "</div>"
      ],
      "text/plain": [
       "   Nome Idade\n",
       "0  Zeca    35\n",
       "1   Eva    29"
      ]
     },
     "execution_count": 132,
     "metadata": {},
     "output_type": "execute_result"
    }
   ],
   "source": [
    "# Visualização do dataset parecida com dataset pandas\n",
    "df.toPandas()"
   ]
  },
  {
   "cell_type": "markdown",
   "metadata": {},
   "source": [
    "### 1.2 Carregando dados CSV\n",
    "\n",
    "Ao longo desta instrodução iremos utilizar os arquivos empresas, estabelecimentos e socios, são dados públicos disponível no site da receita federal, para facilitar os dados estão disponiveis nos links a seguir:\n",
    "\n",
    "* Faça o Download de todas as partições de cada arquivo\n",
    "\n",
    "[Empresas](https://1drv.ms/f/s!Av2lzwYwawWTgWEIG4wnPE1Ea__J?e=8mBZyZ)\n",
    " \n",
    "[Estabelecimentos](https://1drv.ms/f/s!Av2lzwYwawWTgWNAbPa7xPgzhMKl?e=vaincb)\n",
    " \n",
    "[Sócios](https://1drv.ms/f/s!Av2lzwYwawWTgWIif8d4cAXhdN5l?e=pBvIZz)"
   ]
  },
  {
   "cell_type": "code",
   "execution_count": 133,
   "metadata": {},
   "outputs": [
    {
     "name": "stderr",
     "output_type": "stream",
     "text": [
      "                                                                                \r"
     ]
    },
    {
     "name": "stdout",
     "output_type": "stream",
     "text": [
      "Os arquivos de empresas possuem: 4585679 registros\n"
     ]
    }
   ],
   "source": [
    "# Carregando os dados das empresas com spark\n",
    "\n",
    "# Precisamos passar o diretorios de todos os arquivos ou um arquivo, neste exemplo estamos passando o diretorio de todos os arquivos\n",
    "path_empresas = \"/home/leonardojdss/Documentos/trilha_spark_apache_python/01_Spark_apresentando_a_ferramenta/empresas/empresas\"\n",
    "\n",
    "# Realizando a leitura de todos os arquivos do diretorio\n",
    "empresas = spark.read.csv(path_empresas, sep=';', inferSchema=True)\n",
    "\n",
    "#Contando a quantidade de registros, a soma de todos os registros de todos os arquivos no diretorio\n",
    "print(\"Os arquivos de empresas possuem:\", empresas.count(), \"registros\")"
   ]
  },
  {
   "cell_type": "code",
   "execution_count": 134,
   "metadata": {},
   "outputs": [
    {
     "name": "stderr",
     "output_type": "stream",
     "text": [
      "                                                                                \r"
     ]
    },
    {
     "name": "stdout",
     "output_type": "stream",
     "text": [
      "Os arquivos de estabelecimentos possuem: 4585679 registros\n"
     ]
    },
    {
     "name": "stderr",
     "output_type": "stream",
     "text": [
      "                                                                                \r"
     ]
    },
    {
     "name": "stdout",
     "output_type": "stream",
     "text": [
      "Os arquivos de socios possuem: 2046430 registros\n"
     ]
    }
   ],
   "source": [
    "#Leitura do arquivo estabelecimentos\n",
    "\n",
    "Path_estabelecimentos = \"/home/leonardojdss/Documentos/trilha_spark_apache_python/01_Spark_apresentando_a_ferramenta/estabelecimentos/estabelecimentos\"\n",
    "estabelecimentos = spark.read.csv(Path_estabelecimentos, sep=';', inferSchema=True)\n",
    "print(\"Os arquivos de estabelecimentos possuem:\", empresas.count(), \"registros\")\n",
    "\n",
    "Path_socios = \"/home/leonardojdss/Documentos/trilha_spark_apache_python/01_Spark_apresentando_a_ferramenta/socios/socios\"\n",
    "socios = spark.read.csv(Path_socios, sep=';', inferSchema=True)\n",
    "print(\"Os arquivos de socios possuem:\", socios.count(), \"registros\")"
   ]
  },
  {
   "cell_type": "markdown",
   "metadata": {},
   "source": [
    "# 2 Manipulação\n",
    "\n",
    "### 2.1 Tratamento básico\n",
    "\n",
    "### 2.1.1 Renomear Colunas"
   ]
  },
  {
   "cell_type": "code",
   "execution_count": 135,
   "metadata": {},
   "outputs": [
    {
     "data": {
      "text/html": [
       "<div>\n",
       "<style scoped>\n",
       "    .dataframe tbody tr th:only-of-type {\n",
       "        vertical-align: middle;\n",
       "    }\n",
       "\n",
       "    .dataframe tbody tr th {\n",
       "        vertical-align: top;\n",
       "    }\n",
       "\n",
       "    .dataframe thead th {\n",
       "        text-align: right;\n",
       "    }\n",
       "</style>\n",
       "<table border=\"1\" class=\"dataframe\">\n",
       "  <thead>\n",
       "    <tr style=\"text-align: right;\">\n",
       "      <th></th>\n",
       "      <th>_c0</th>\n",
       "      <th>_c1</th>\n",
       "      <th>_c2</th>\n",
       "      <th>_c3</th>\n",
       "      <th>_c4</th>\n",
       "      <th>_c5</th>\n",
       "      <th>_c6</th>\n",
       "    </tr>\n",
       "  </thead>\n",
       "  <tbody>\n",
       "    <tr>\n",
       "      <th>0</th>\n",
       "      <td>306</td>\n",
       "      <td>FRANCAMAR REFRIGERACAO TECNICA S/C LTDA</td>\n",
       "      <td>2240</td>\n",
       "      <td>49</td>\n",
       "      <td>0,00</td>\n",
       "      <td>1</td>\n",
       "      <td>None</td>\n",
       "    </tr>\n",
       "    <tr>\n",
       "      <th>1</th>\n",
       "      <td>1355</td>\n",
       "      <td>BRASILEIRO &amp; OLIVEIRA LTDA</td>\n",
       "      <td>2062</td>\n",
       "      <td>49</td>\n",
       "      <td>0,00</td>\n",
       "      <td>5</td>\n",
       "      <td>None</td>\n",
       "    </tr>\n",
       "    <tr>\n",
       "      <th>2</th>\n",
       "      <td>4820</td>\n",
       "      <td>REGISTRO DE IMOVEIS, TABELIONATO 1 DE NOTAS E ...</td>\n",
       "      <td>3034</td>\n",
       "      <td>32</td>\n",
       "      <td>0,00</td>\n",
       "      <td>5</td>\n",
       "      <td>None</td>\n",
       "    </tr>\n",
       "    <tr>\n",
       "      <th>3</th>\n",
       "      <td>5347</td>\n",
       "      <td>ROSELY APARECIDA MONTEIRO CALTABIANO FREITAS</td>\n",
       "      <td>2135</td>\n",
       "      <td>50</td>\n",
       "      <td>0,00</td>\n",
       "      <td>5</td>\n",
       "      <td>None</td>\n",
       "    </tr>\n",
       "    <tr>\n",
       "      <th>4</th>\n",
       "      <td>6846</td>\n",
       "      <td>BADU E FILHOS TECIDOS LTDA</td>\n",
       "      <td>2062</td>\n",
       "      <td>49</td>\n",
       "      <td>4000,00</td>\n",
       "      <td>1</td>\n",
       "      <td>None</td>\n",
       "    </tr>\n",
       "  </tbody>\n",
       "</table>\n",
       "</div>"
      ],
      "text/plain": [
       "    _c0                                                _c1   _c2  _c3  \\\n",
       "0   306            FRANCAMAR REFRIGERACAO TECNICA S/C LTDA  2240   49   \n",
       "1  1355                         BRASILEIRO & OLIVEIRA LTDA  2062   49   \n",
       "2  4820  REGISTRO DE IMOVEIS, TABELIONATO 1 DE NOTAS E ...  3034   32   \n",
       "3  5347       ROSELY APARECIDA MONTEIRO CALTABIANO FREITAS  2135   50   \n",
       "4  6846                         BADU E FILHOS TECIDOS LTDA  2062   49   \n",
       "\n",
       "       _c4  _c5   _c6  \n",
       "0     0,00    1  None  \n",
       "1     0,00    5  None  \n",
       "2     0,00    5  None  \n",
       "3     0,00    5  None  \n",
       "4  4000,00    1  None  "
      ]
     },
     "execution_count": 135,
     "metadata": {},
     "output_type": "execute_result"
    }
   ],
   "source": [
    "# Analisando o conjunto de dados, em uma visualização semelhante ao pandas\n",
    "\n",
    "empresas.limit(5).toPandas()"
   ]
  },
  {
   "cell_type": "code",
   "execution_count": 136,
   "metadata": {},
   "outputs": [
    {
     "data": {
      "text/html": [
       "<div>\n",
       "<style scoped>\n",
       "    .dataframe tbody tr th:only-of-type {\n",
       "        vertical-align: middle;\n",
       "    }\n",
       "\n",
       "    .dataframe tbody tr th {\n",
       "        vertical-align: top;\n",
       "    }\n",
       "\n",
       "    .dataframe thead th {\n",
       "        text-align: right;\n",
       "    }\n",
       "</style>\n",
       "<table border=\"1\" class=\"dataframe\">\n",
       "  <thead>\n",
       "    <tr style=\"text-align: right;\">\n",
       "      <th></th>\n",
       "      <th>cnpj_basico</th>\n",
       "      <th>razao_social_nome_empresarial</th>\n",
       "      <th>natureza_juridica</th>\n",
       "      <th>qualificacao_do_responsavel</th>\n",
       "      <th>capital_social_da_empresa</th>\n",
       "      <th>porte_da_empresa</th>\n",
       "      <th>ente_federativo_responsavel</th>\n",
       "    </tr>\n",
       "  </thead>\n",
       "  <tbody>\n",
       "    <tr>\n",
       "      <th>0</th>\n",
       "      <td>306</td>\n",
       "      <td>FRANCAMAR REFRIGERACAO TECNICA S/C LTDA</td>\n",
       "      <td>2240</td>\n",
       "      <td>49</td>\n",
       "      <td>0,00</td>\n",
       "      <td>1</td>\n",
       "      <td>None</td>\n",
       "    </tr>\n",
       "    <tr>\n",
       "      <th>1</th>\n",
       "      <td>1355</td>\n",
       "      <td>BRASILEIRO &amp; OLIVEIRA LTDA</td>\n",
       "      <td>2062</td>\n",
       "      <td>49</td>\n",
       "      <td>0,00</td>\n",
       "      <td>5</td>\n",
       "      <td>None</td>\n",
       "    </tr>\n",
       "    <tr>\n",
       "      <th>2</th>\n",
       "      <td>4820</td>\n",
       "      <td>REGISTRO DE IMOVEIS, TABELIONATO 1 DE NOTAS E ...</td>\n",
       "      <td>3034</td>\n",
       "      <td>32</td>\n",
       "      <td>0,00</td>\n",
       "      <td>5</td>\n",
       "      <td>None</td>\n",
       "    </tr>\n",
       "    <tr>\n",
       "      <th>3</th>\n",
       "      <td>5347</td>\n",
       "      <td>ROSELY APARECIDA MONTEIRO CALTABIANO FREITAS</td>\n",
       "      <td>2135</td>\n",
       "      <td>50</td>\n",
       "      <td>0,00</td>\n",
       "      <td>5</td>\n",
       "      <td>None</td>\n",
       "    </tr>\n",
       "    <tr>\n",
       "      <th>4</th>\n",
       "      <td>6846</td>\n",
       "      <td>BADU E FILHOS TECIDOS LTDA</td>\n",
       "      <td>2062</td>\n",
       "      <td>49</td>\n",
       "      <td>4000,00</td>\n",
       "      <td>1</td>\n",
       "      <td>None</td>\n",
       "    </tr>\n",
       "  </tbody>\n",
       "</table>\n",
       "</div>"
      ],
      "text/plain": [
       "   cnpj_basico                      razao_social_nome_empresarial  \\\n",
       "0          306            FRANCAMAR REFRIGERACAO TECNICA S/C LTDA   \n",
       "1         1355                         BRASILEIRO & OLIVEIRA LTDA   \n",
       "2         4820  REGISTRO DE IMOVEIS, TABELIONATO 1 DE NOTAS E ...   \n",
       "3         5347       ROSELY APARECIDA MONTEIRO CALTABIANO FREITAS   \n",
       "4         6846                         BADU E FILHOS TECIDOS LTDA   \n",
       "\n",
       "   natureza_juridica  qualificacao_do_responsavel capital_social_da_empresa  \\\n",
       "0               2240                           49                      0,00   \n",
       "1               2062                           49                      0,00   \n",
       "2               3034                           32                      0,00   \n",
       "3               2135                           50                      0,00   \n",
       "4               2062                           49                   4000,00   \n",
       "\n",
       "   porte_da_empresa ente_federativo_responsavel  \n",
       "0                 1                        None  \n",
       "1                 5                        None  \n",
       "2                 5                        None  \n",
       "3                 5                        None  \n",
       "4                 1                        None  "
      ]
     },
     "execution_count": 136,
     "metadata": {},
     "output_type": "execute_result"
    }
   ],
   "source": [
    "# Renomear colunas do dataframe empresas\n",
    "\n",
    "empresasColNames = ['cnpj_basico', 'razao_social_nome_empresarial', 'natureza_juridica', 'qualificacao_do_responsavel', 'capital_social_da_empresa', 'porte_da_empresa', 'ente_federativo_responsavel']\n",
    "\n",
    "for index, colName in enumerate(empresasColNames):\n",
    "    empresas = empresas.withColumnRenamed(f\"_c{index}\", colName)\n",
    "\n",
    "empresas.limit(5).toPandas()\n"
   ]
  },
  {
   "cell_type": "code",
   "execution_count": 137,
   "metadata": {},
   "outputs": [
    {
     "data": {
      "text/html": [
       "<div>\n",
       "<style scoped>\n",
       "    .dataframe tbody tr th:only-of-type {\n",
       "        vertical-align: middle;\n",
       "    }\n",
       "\n",
       "    .dataframe tbody tr th {\n",
       "        vertical-align: top;\n",
       "    }\n",
       "\n",
       "    .dataframe thead th {\n",
       "        text-align: right;\n",
       "    }\n",
       "</style>\n",
       "<table border=\"1\" class=\"dataframe\">\n",
       "  <thead>\n",
       "    <tr style=\"text-align: right;\">\n",
       "      <th></th>\n",
       "      <th>cnpj_basico</th>\n",
       "      <th>cnpj_ordem</th>\n",
       "      <th>cnpj_dv</th>\n",
       "      <th>identificador_matriz_filial</th>\n",
       "      <th>nome_fantasia</th>\n",
       "      <th>situacao_cadastral</th>\n",
       "      <th>data_situacao_cadastral</th>\n",
       "      <th>motivo_situacao_cadastral</th>\n",
       "      <th>nome_da_cidade_no_exterior</th>\n",
       "      <th>pais</th>\n",
       "      <th>...</th>\n",
       "      <th>municipio</th>\n",
       "      <th>ddd_1</th>\n",
       "      <th>telefone_1</th>\n",
       "      <th>ddd_2</th>\n",
       "      <th>telefone_2</th>\n",
       "      <th>ddd_do_fax</th>\n",
       "      <th>fax</th>\n",
       "      <th>correio_eletronico</th>\n",
       "      <th>situacao_especial</th>\n",
       "      <th>data_da_situacao_especial</th>\n",
       "    </tr>\n",
       "  </thead>\n",
       "  <tbody>\n",
       "    <tr>\n",
       "      <th>0</th>\n",
       "      <td>1879</td>\n",
       "      <td>1</td>\n",
       "      <td>96</td>\n",
       "      <td>1</td>\n",
       "      <td>PIRAMIDE M. C.</td>\n",
       "      <td>8</td>\n",
       "      <td>20011029</td>\n",
       "      <td>1</td>\n",
       "      <td>None</td>\n",
       "      <td>NaN</td>\n",
       "      <td>...</td>\n",
       "      <td>7107</td>\n",
       "      <td>None</td>\n",
       "      <td>None</td>\n",
       "      <td>None</td>\n",
       "      <td>None</td>\n",
       "      <td>NaN</td>\n",
       "      <td>None</td>\n",
       "      <td>None</td>\n",
       "      <td>None</td>\n",
       "      <td>NaN</td>\n",
       "    </tr>\n",
       "    <tr>\n",
       "      <th>1</th>\n",
       "      <td>2818</td>\n",
       "      <td>1</td>\n",
       "      <td>43</td>\n",
       "      <td>1</td>\n",
       "      <td>None</td>\n",
       "      <td>8</td>\n",
       "      <td>20081231</td>\n",
       "      <td>71</td>\n",
       "      <td>None</td>\n",
       "      <td>NaN</td>\n",
       "      <td>...</td>\n",
       "      <td>7107</td>\n",
       "      <td>None</td>\n",
       "      <td>None</td>\n",
       "      <td>None</td>\n",
       "      <td>None</td>\n",
       "      <td>NaN</td>\n",
       "      <td>None</td>\n",
       "      <td>None</td>\n",
       "      <td>None</td>\n",
       "      <td>NaN</td>\n",
       "    </tr>\n",
       "    <tr>\n",
       "      <th>2</th>\n",
       "      <td>3110</td>\n",
       "      <td>1</td>\n",
       "      <td>7</td>\n",
       "      <td>1</td>\n",
       "      <td>None</td>\n",
       "      <td>8</td>\n",
       "      <td>19971231</td>\n",
       "      <td>1</td>\n",
       "      <td>None</td>\n",
       "      <td>NaN</td>\n",
       "      <td>...</td>\n",
       "      <td>7107</td>\n",
       "      <td>None</td>\n",
       "      <td>None</td>\n",
       "      <td>None</td>\n",
       "      <td>None</td>\n",
       "      <td>NaN</td>\n",
       "      <td>None</td>\n",
       "      <td>None</td>\n",
       "      <td>None</td>\n",
       "      <td>NaN</td>\n",
       "    </tr>\n",
       "    <tr>\n",
       "      <th>3</th>\n",
       "      <td>3733</td>\n",
       "      <td>1</td>\n",
       "      <td>80</td>\n",
       "      <td>1</td>\n",
       "      <td>None</td>\n",
       "      <td>8</td>\n",
       "      <td>20081231</td>\n",
       "      <td>71</td>\n",
       "      <td>None</td>\n",
       "      <td>NaN</td>\n",
       "      <td>...</td>\n",
       "      <td>7107</td>\n",
       "      <td>None</td>\n",
       "      <td>None</td>\n",
       "      <td>None</td>\n",
       "      <td>None</td>\n",
       "      <td>NaN</td>\n",
       "      <td>None</td>\n",
       "      <td>None</td>\n",
       "      <td>None</td>\n",
       "      <td>NaN</td>\n",
       "    </tr>\n",
       "    <tr>\n",
       "      <th>4</th>\n",
       "      <td>4628</td>\n",
       "      <td>3</td>\n",
       "      <td>27</td>\n",
       "      <td>2</td>\n",
       "      <td>EMBROIDERY &amp; GIFT</td>\n",
       "      <td>8</td>\n",
       "      <td>19980429</td>\n",
       "      <td>1</td>\n",
       "      <td>None</td>\n",
       "      <td>NaN</td>\n",
       "      <td>...</td>\n",
       "      <td>7075</td>\n",
       "      <td>None</td>\n",
       "      <td>None</td>\n",
       "      <td>None</td>\n",
       "      <td>None</td>\n",
       "      <td>NaN</td>\n",
       "      <td>None</td>\n",
       "      <td>None</td>\n",
       "      <td>None</td>\n",
       "      <td>NaN</td>\n",
       "    </tr>\n",
       "  </tbody>\n",
       "</table>\n",
       "<p>5 rows × 30 columns</p>\n",
       "</div>"
      ],
      "text/plain": [
       "   cnpj_basico  cnpj_ordem  cnpj_dv  identificador_matriz_filial  \\\n",
       "0         1879           1       96                            1   \n",
       "1         2818           1       43                            1   \n",
       "2         3110           1        7                            1   \n",
       "3         3733           1       80                            1   \n",
       "4         4628           3       27                            2   \n",
       "\n",
       "       nome_fantasia  situacao_cadastral  data_situacao_cadastral  \\\n",
       "0     PIRAMIDE M. C.                   8                 20011029   \n",
       "1               None                   8                 20081231   \n",
       "2               None                   8                 19971231   \n",
       "3               None                   8                 20081231   \n",
       "4  EMBROIDERY & GIFT                   8                 19980429   \n",
       "\n",
       "   motivo_situacao_cadastral nome_da_cidade_no_exterior  pais  ...  municipio  \\\n",
       "0                          1                       None   NaN  ...       7107   \n",
       "1                         71                       None   NaN  ...       7107   \n",
       "2                          1                       None   NaN  ...       7107   \n",
       "3                         71                       None   NaN  ...       7107   \n",
       "4                          1                       None   NaN  ...       7075   \n",
       "\n",
       "   ddd_1 telefone_1 ddd_2 telefone_2 ddd_do_fax   fax correio_eletronico  \\\n",
       "0   None       None  None       None        NaN  None               None   \n",
       "1   None       None  None       None        NaN  None               None   \n",
       "2   None       None  None       None        NaN  None               None   \n",
       "3   None       None  None       None        NaN  None               None   \n",
       "4   None       None  None       None        NaN  None               None   \n",
       "\n",
       "   situacao_especial data_da_situacao_especial  \n",
       "0               None                       NaN  \n",
       "1               None                       NaN  \n",
       "2               None                       NaN  \n",
       "3               None                       NaN  \n",
       "4               None                       NaN  \n",
       "\n",
       "[5 rows x 30 columns]"
      ]
     },
     "execution_count": 137,
     "metadata": {},
     "output_type": "execute_result"
    }
   ],
   "source": [
    "# Renomear colunas do dataframe estabelecimento\n",
    "\n",
    "estabsColNames = ['cnpj_basico', 'cnpj_ordem', 'cnpj_dv', 'identificador_matriz_filial', 'nome_fantasia', 'situacao_cadastral', 'data_situacao_cadastral', 'motivo_situacao_cadastral', 'nome_da_cidade_no_exterior', 'pais', 'data_de_inicio_atividade', 'cnae_fiscal_principal', 'cnae_fiscal_secundaria', 'tipo_de_logradouro', 'logradouro', 'numero', 'complemento', 'bairro', 'cep', 'uf', 'municipio', 'ddd_1', 'telefone_1', 'ddd_2', 'telefone_2', 'ddd_do_fax', 'fax', 'correio_eletronico', 'situacao_especial', 'data_da_situacao_especial']\n",
    "\n",
    "for index, colName in enumerate(estabsColNames):\n",
    "    estabelecimentos = estabelecimentos.withColumnRenamed(f\"_c{index}\", colName)\n",
    "\n",
    "estabelecimentos.limit(5).toPandas()"
   ]
  },
  {
   "cell_type": "code",
   "execution_count": 138,
   "metadata": {},
   "outputs": [
    {
     "data": {
      "text/html": [
       "<div>\n",
       "<style scoped>\n",
       "    .dataframe tbody tr th:only-of-type {\n",
       "        vertical-align: middle;\n",
       "    }\n",
       "\n",
       "    .dataframe tbody tr th {\n",
       "        vertical-align: top;\n",
       "    }\n",
       "\n",
       "    .dataframe thead th {\n",
       "        text-align: right;\n",
       "    }\n",
       "</style>\n",
       "<table border=\"1\" class=\"dataframe\">\n",
       "  <thead>\n",
       "    <tr style=\"text-align: right;\">\n",
       "      <th></th>\n",
       "      <th>cnpj_basico</th>\n",
       "      <th>identificador_de_socio</th>\n",
       "      <th>nome_do_socio_ou_razao_social</th>\n",
       "      <th>cnpj_ou_cpf_do_socio</th>\n",
       "      <th>qualificacao_do_socio</th>\n",
       "      <th>data_de_entrada_sociedade</th>\n",
       "      <th>pais</th>\n",
       "      <th>representante_legal</th>\n",
       "      <th>nome_do_representante</th>\n",
       "      <th>qualificacao_do_representante_legal</th>\n",
       "      <th>faixa_etaria</th>\n",
       "    </tr>\n",
       "  </thead>\n",
       "  <tbody>\n",
       "    <tr>\n",
       "      <th>0</th>\n",
       "      <td>411</td>\n",
       "      <td>2</td>\n",
       "      <td>LILIANA PATRICIA GUASTAVINO</td>\n",
       "      <td>***678188**</td>\n",
       "      <td>22</td>\n",
       "      <td>19940725</td>\n",
       "      <td>NaN</td>\n",
       "      <td>***000000**</td>\n",
       "      <td>None</td>\n",
       "      <td>0</td>\n",
       "      <td>7</td>\n",
       "    </tr>\n",
       "    <tr>\n",
       "      <th>1</th>\n",
       "      <td>411</td>\n",
       "      <td>2</td>\n",
       "      <td>CRISTINA HUNDERTMARK</td>\n",
       "      <td>***637848**</td>\n",
       "      <td>28</td>\n",
       "      <td>19940725</td>\n",
       "      <td>NaN</td>\n",
       "      <td>***000000**</td>\n",
       "      <td>None</td>\n",
       "      <td>0</td>\n",
       "      <td>7</td>\n",
       "    </tr>\n",
       "    <tr>\n",
       "      <th>2</th>\n",
       "      <td>5813</td>\n",
       "      <td>2</td>\n",
       "      <td>CELSO EDUARDO DE CASTRO STEPHAN</td>\n",
       "      <td>***786068**</td>\n",
       "      <td>49</td>\n",
       "      <td>19940516</td>\n",
       "      <td>NaN</td>\n",
       "      <td>***000000**</td>\n",
       "      <td>None</td>\n",
       "      <td>0</td>\n",
       "      <td>8</td>\n",
       "    </tr>\n",
       "    <tr>\n",
       "      <th>3</th>\n",
       "      <td>5813</td>\n",
       "      <td>2</td>\n",
       "      <td>EDUARDO BERRINGER STEPHAN</td>\n",
       "      <td>***442348**</td>\n",
       "      <td>49</td>\n",
       "      <td>19940516</td>\n",
       "      <td>NaN</td>\n",
       "      <td>***000000**</td>\n",
       "      <td>None</td>\n",
       "      <td>0</td>\n",
       "      <td>5</td>\n",
       "    </tr>\n",
       "    <tr>\n",
       "      <th>4</th>\n",
       "      <td>14798</td>\n",
       "      <td>2</td>\n",
       "      <td>HANNE MAHFOUD FADEL</td>\n",
       "      <td>***760388**</td>\n",
       "      <td>49</td>\n",
       "      <td>19940609</td>\n",
       "      <td>NaN</td>\n",
       "      <td>***000000**</td>\n",
       "      <td>None</td>\n",
       "      <td>0</td>\n",
       "      <td>8</td>\n",
       "    </tr>\n",
       "  </tbody>\n",
       "</table>\n",
       "</div>"
      ],
      "text/plain": [
       "   cnpj_basico  identificador_de_socio    nome_do_socio_ou_razao_social  \\\n",
       "0          411                       2      LILIANA PATRICIA GUASTAVINO   \n",
       "1          411                       2             CRISTINA HUNDERTMARK   \n",
       "2         5813                       2  CELSO EDUARDO DE CASTRO STEPHAN   \n",
       "3         5813                       2        EDUARDO BERRINGER STEPHAN   \n",
       "4        14798                       2              HANNE MAHFOUD FADEL   \n",
       "\n",
       "  cnpj_ou_cpf_do_socio  qualificacao_do_socio  data_de_entrada_sociedade  \\\n",
       "0          ***678188**                     22                   19940725   \n",
       "1          ***637848**                     28                   19940725   \n",
       "2          ***786068**                     49                   19940516   \n",
       "3          ***442348**                     49                   19940516   \n",
       "4          ***760388**                     49                   19940609   \n",
       "\n",
       "   pais representante_legal nome_do_representante  \\\n",
       "0   NaN         ***000000**                  None   \n",
       "1   NaN         ***000000**                  None   \n",
       "2   NaN         ***000000**                  None   \n",
       "3   NaN         ***000000**                  None   \n",
       "4   NaN         ***000000**                  None   \n",
       "\n",
       "   qualificacao_do_representante_legal  faixa_etaria  \n",
       "0                                    0             7  \n",
       "1                                    0             7  \n",
       "2                                    0             8  \n",
       "3                                    0             5  \n",
       "4                                    0             8  "
      ]
     },
     "execution_count": 138,
     "metadata": {},
     "output_type": "execute_result"
    }
   ],
   "source": [
    "# Renomear colunas do dataframe socios\n",
    "\n",
    "sociosColNames = ['cnpj_basico', 'identificador_de_socio', 'nome_do_socio_ou_razao_social', 'cnpj_ou_cpf_do_socio', 'qualificacao_do_socio', 'data_de_entrada_sociedade', 'pais', 'representante_legal', 'nome_do_representante', 'qualificacao_do_representante_legal', 'faixa_etaria']\n",
    "\n",
    "for index, colName in enumerate(sociosColNames):\n",
    "    socios = socios.withColumnRenamed(f\"_c{index}\", colName)\n",
    "\n",
    "socios.limit(5).toPandas()"
   ]
  },
  {
   "cell_type": "markdown",
   "metadata": {},
   "source": [
    "### 2.1.2 Analisar schemas dos dados"
   ]
  },
  {
   "cell_type": "code",
   "execution_count": 139,
   "metadata": {},
   "outputs": [
    {
     "name": "stdout",
     "output_type": "stream",
     "text": [
      "root\n",
      " |-- cnpj_basico: integer (nullable = true)\n",
      " |-- razao_social_nome_empresarial: string (nullable = true)\n",
      " |-- natureza_juridica: integer (nullable = true)\n",
      " |-- qualificacao_do_responsavel: integer (nullable = true)\n",
      " |-- capital_social_da_empresa: string (nullable = true)\n",
      " |-- porte_da_empresa: integer (nullable = true)\n",
      " |-- ente_federativo_responsavel: string (nullable = true)\n",
      "\n"
     ]
    }
   ],
   "source": [
    "# Analisando o conjunto de dados, em uma visualização semelhante ao pandas\n",
    "\n",
    "empresas.printSchema()"
   ]
  },
  {
   "cell_type": "code",
   "execution_count": 140,
   "metadata": {},
   "outputs": [
    {
     "name": "stdout",
     "output_type": "stream",
     "text": [
      "root\n",
      " |-- cnpj_basico: integer (nullable = true)\n",
      " |-- cnpj_ordem: integer (nullable = true)\n",
      " |-- cnpj_dv: integer (nullable = true)\n",
      " |-- identificador_matriz_filial: integer (nullable = true)\n",
      " |-- nome_fantasia: string (nullable = true)\n",
      " |-- situacao_cadastral: integer (nullable = true)\n",
      " |-- data_situacao_cadastral: integer (nullable = true)\n",
      " |-- motivo_situacao_cadastral: integer (nullable = true)\n",
      " |-- nome_da_cidade_no_exterior: string (nullable = true)\n",
      " |-- pais: integer (nullable = true)\n",
      " |-- data_de_inicio_atividade: integer (nullable = true)\n",
      " |-- cnae_fiscal_principal: integer (nullable = true)\n",
      " |-- cnae_fiscal_secundaria: string (nullable = true)\n",
      " |-- tipo_de_logradouro: string (nullable = true)\n",
      " |-- logradouro: string (nullable = true)\n",
      " |-- numero: string (nullable = true)\n",
      " |-- complemento: string (nullable = true)\n",
      " |-- bairro: string (nullable = true)\n",
      " |-- cep: integer (nullable = true)\n",
      " |-- uf: string (nullable = true)\n",
      " |-- municipio: integer (nullable = true)\n",
      " |-- ddd_1: string (nullable = true)\n",
      " |-- telefone_1: string (nullable = true)\n",
      " |-- ddd_2: string (nullable = true)\n",
      " |-- telefone_2: string (nullable = true)\n",
      " |-- ddd_do_fax: integer (nullable = true)\n",
      " |-- fax: string (nullable = true)\n",
      " |-- correio_eletronico: string (nullable = true)\n",
      " |-- situacao_especial: string (nullable = true)\n",
      " |-- data_da_situacao_especial: integer (nullable = true)\n",
      "\n"
     ]
    }
   ],
   "source": [
    "# Analisando o conjunto de dados, em uma visualização semelhante ao pandas\n",
    "\n",
    "estabelecimentos.printSchema()"
   ]
  },
  {
   "cell_type": "code",
   "execution_count": 141,
   "metadata": {},
   "outputs": [
    {
     "name": "stdout",
     "output_type": "stream",
     "text": [
      "root\n",
      " |-- cnpj_basico: integer (nullable = true)\n",
      " |-- identificador_de_socio: integer (nullable = true)\n",
      " |-- nome_do_socio_ou_razao_social: string (nullable = true)\n",
      " |-- cnpj_ou_cpf_do_socio: string (nullable = true)\n",
      " |-- qualificacao_do_socio: integer (nullable = true)\n",
      " |-- data_de_entrada_sociedade: integer (nullable = true)\n",
      " |-- pais: integer (nullable = true)\n",
      " |-- representante_legal: string (nullable = true)\n",
      " |-- nome_do_representante: string (nullable = true)\n",
      " |-- qualificacao_do_representante_legal: integer (nullable = true)\n",
      " |-- faixa_etaria: integer (nullable = true)\n",
      "\n"
     ]
    }
   ],
   "source": [
    "# Analisando o conjunto de dados, em uma visualização semelhante ao pandas\n",
    "\n",
    "socios.printSchema()"
   ]
  },
  {
   "cell_type": "markdown",
   "metadata": {},
   "source": [
    "### 2.1.3    Conversão de string para double"
   ]
  },
  {
   "cell_type": "code",
   "execution_count": 142,
   "metadata": {},
   "outputs": [],
   "source": [
    "# Importanto as classes para conversão de dados\n",
    "\n",
    "from pyspark.sql.types import DoubleType, StringType\n",
    "from pyspark.sql import functions as f"
   ]
  },
  {
   "cell_type": "code",
   "execution_count": 143,
   "metadata": {},
   "outputs": [
    {
     "name": "stdout",
     "output_type": "stream",
     "text": [
      "root\n",
      " |-- cnpj_basico: integer (nullable = true)\n",
      " |-- razao_social_nome_empresarial: string (nullable = true)\n",
      " |-- natureza_juridica: integer (nullable = true)\n",
      " |-- qualificacao_do_responsavel: integer (nullable = true)\n",
      " |-- capital_social_da_empresa: string (nullable = true)\n",
      " |-- porte_da_empresa: integer (nullable = true)\n",
      " |-- ente_federativo_responsavel: string (nullable = true)\n",
      "\n"
     ]
    }
   ],
   "source": [
    "# Analisando os tipos de dados\n",
    "\n",
    "empresas.printSchema()"
   ]
  },
  {
   "cell_type": "code",
   "execution_count": 144,
   "metadata": {},
   "outputs": [
    {
     "data": {
      "text/html": [
       "<div>\n",
       "<style scoped>\n",
       "    .dataframe tbody tr th:only-of-type {\n",
       "        vertical-align: middle;\n",
       "    }\n",
       "\n",
       "    .dataframe tbody tr th {\n",
       "        vertical-align: top;\n",
       "    }\n",
       "\n",
       "    .dataframe thead th {\n",
       "        text-align: right;\n",
       "    }\n",
       "</style>\n",
       "<table border=\"1\" class=\"dataframe\">\n",
       "  <thead>\n",
       "    <tr style=\"text-align: right;\">\n",
       "      <th></th>\n",
       "      <th>cnpj_basico</th>\n",
       "      <th>razao_social_nome_empresarial</th>\n",
       "      <th>natureza_juridica</th>\n",
       "      <th>qualificacao_do_responsavel</th>\n",
       "      <th>capital_social_da_empresa</th>\n",
       "      <th>porte_da_empresa</th>\n",
       "      <th>ente_federativo_responsavel</th>\n",
       "    </tr>\n",
       "  </thead>\n",
       "  <tbody>\n",
       "    <tr>\n",
       "      <th>0</th>\n",
       "      <td>306</td>\n",
       "      <td>FRANCAMAR REFRIGERACAO TECNICA S/C LTDA</td>\n",
       "      <td>2240</td>\n",
       "      <td>49</td>\n",
       "      <td>0.00</td>\n",
       "      <td>1</td>\n",
       "      <td>None</td>\n",
       "    </tr>\n",
       "    <tr>\n",
       "      <th>1</th>\n",
       "      <td>1355</td>\n",
       "      <td>BRASILEIRO &amp; OLIVEIRA LTDA</td>\n",
       "      <td>2062</td>\n",
       "      <td>49</td>\n",
       "      <td>0.00</td>\n",
       "      <td>5</td>\n",
       "      <td>None</td>\n",
       "    </tr>\n",
       "    <tr>\n",
       "      <th>2</th>\n",
       "      <td>4820</td>\n",
       "      <td>REGISTRO DE IMOVEIS, TABELIONATO 1 DE NOTAS E ...</td>\n",
       "      <td>3034</td>\n",
       "      <td>32</td>\n",
       "      <td>0.00</td>\n",
       "      <td>5</td>\n",
       "      <td>None</td>\n",
       "    </tr>\n",
       "    <tr>\n",
       "      <th>3</th>\n",
       "      <td>5347</td>\n",
       "      <td>ROSELY APARECIDA MONTEIRO CALTABIANO FREITAS</td>\n",
       "      <td>2135</td>\n",
       "      <td>50</td>\n",
       "      <td>0.00</td>\n",
       "      <td>5</td>\n",
       "      <td>None</td>\n",
       "    </tr>\n",
       "    <tr>\n",
       "      <th>4</th>\n",
       "      <td>6846</td>\n",
       "      <td>BADU E FILHOS TECIDOS LTDA</td>\n",
       "      <td>2062</td>\n",
       "      <td>49</td>\n",
       "      <td>4000.00</td>\n",
       "      <td>1</td>\n",
       "      <td>None</td>\n",
       "    </tr>\n",
       "  </tbody>\n",
       "</table>\n",
       "</div>"
      ],
      "text/plain": [
       "   cnpj_basico                      razao_social_nome_empresarial  \\\n",
       "0          306            FRANCAMAR REFRIGERACAO TECNICA S/C LTDA   \n",
       "1         1355                         BRASILEIRO & OLIVEIRA LTDA   \n",
       "2         4820  REGISTRO DE IMOVEIS, TABELIONATO 1 DE NOTAS E ...   \n",
       "3         5347       ROSELY APARECIDA MONTEIRO CALTABIANO FREITAS   \n",
       "4         6846                         BADU E FILHOS TECIDOS LTDA   \n",
       "\n",
       "   natureza_juridica  qualificacao_do_responsavel capital_social_da_empresa  \\\n",
       "0               2240                           49                      0.00   \n",
       "1               2062                           49                      0.00   \n",
       "2               3034                           32                      0.00   \n",
       "3               2135                           50                      0.00   \n",
       "4               2062                           49                   4000.00   \n",
       "\n",
       "   porte_da_empresa ente_federativo_responsavel  \n",
       "0                 1                        None  \n",
       "1                 5                        None  \n",
       "2                 5                        None  \n",
       "3                 5                        None  \n",
       "4                 1                        None  "
      ]
     },
     "execution_count": 144,
     "metadata": {},
     "output_type": "execute_result"
    }
   ],
   "source": [
    "# Antes de realizar a conversão de string para double precisamos alterar as virgula dicimais para pontos decimais\n",
    "# o spark entender o ponto como decimal ao inves do padrão brasileiro que é a virgula\n",
    "\n",
    "empresas = empresas.withColumn('capital_social_da_empresa', f.regexp_replace('capital_social_da_empresa', ',', '.'))\n",
    "empresas.limit(5).toPandas()"
   ]
  },
  {
   "cell_type": "code",
   "execution_count": 145,
   "metadata": {},
   "outputs": [
    {
     "data": {
      "text/html": [
       "<div>\n",
       "<style scoped>\n",
       "    .dataframe tbody tr th:only-of-type {\n",
       "        vertical-align: middle;\n",
       "    }\n",
       "\n",
       "    .dataframe tbody tr th {\n",
       "        vertical-align: top;\n",
       "    }\n",
       "\n",
       "    .dataframe thead th {\n",
       "        text-align: right;\n",
       "    }\n",
       "</style>\n",
       "<table border=\"1\" class=\"dataframe\">\n",
       "  <thead>\n",
       "    <tr style=\"text-align: right;\">\n",
       "      <th></th>\n",
       "      <th>cnpj_basico</th>\n",
       "      <th>razao_social_nome_empresarial</th>\n",
       "      <th>natureza_juridica</th>\n",
       "      <th>qualificacao_do_responsavel</th>\n",
       "      <th>capital_social_da_empresa</th>\n",
       "      <th>porte_da_empresa</th>\n",
       "      <th>ente_federativo_responsavel</th>\n",
       "    </tr>\n",
       "  </thead>\n",
       "  <tbody>\n",
       "    <tr>\n",
       "      <th>0</th>\n",
       "      <td>306</td>\n",
       "      <td>FRANCAMAR REFRIGERACAO TECNICA S/C LTDA</td>\n",
       "      <td>2240</td>\n",
       "      <td>49</td>\n",
       "      <td>0.0</td>\n",
       "      <td>1</td>\n",
       "      <td>None</td>\n",
       "    </tr>\n",
       "    <tr>\n",
       "      <th>1</th>\n",
       "      <td>1355</td>\n",
       "      <td>BRASILEIRO &amp; OLIVEIRA LTDA</td>\n",
       "      <td>2062</td>\n",
       "      <td>49</td>\n",
       "      <td>0.0</td>\n",
       "      <td>5</td>\n",
       "      <td>None</td>\n",
       "    </tr>\n",
       "    <tr>\n",
       "      <th>2</th>\n",
       "      <td>4820</td>\n",
       "      <td>REGISTRO DE IMOVEIS, TABELIONATO 1 DE NOTAS E ...</td>\n",
       "      <td>3034</td>\n",
       "      <td>32</td>\n",
       "      <td>0.0</td>\n",
       "      <td>5</td>\n",
       "      <td>None</td>\n",
       "    </tr>\n",
       "    <tr>\n",
       "      <th>3</th>\n",
       "      <td>5347</td>\n",
       "      <td>ROSELY APARECIDA MONTEIRO CALTABIANO FREITAS</td>\n",
       "      <td>2135</td>\n",
       "      <td>50</td>\n",
       "      <td>0.0</td>\n",
       "      <td>5</td>\n",
       "      <td>None</td>\n",
       "    </tr>\n",
       "    <tr>\n",
       "      <th>4</th>\n",
       "      <td>6846</td>\n",
       "      <td>BADU E FILHOS TECIDOS LTDA</td>\n",
       "      <td>2062</td>\n",
       "      <td>49</td>\n",
       "      <td>4000.0</td>\n",
       "      <td>1</td>\n",
       "      <td>None</td>\n",
       "    </tr>\n",
       "  </tbody>\n",
       "</table>\n",
       "</div>"
      ],
      "text/plain": [
       "   cnpj_basico                      razao_social_nome_empresarial  \\\n",
       "0          306            FRANCAMAR REFRIGERACAO TECNICA S/C LTDA   \n",
       "1         1355                         BRASILEIRO & OLIVEIRA LTDA   \n",
       "2         4820  REGISTRO DE IMOVEIS, TABELIONATO 1 DE NOTAS E ...   \n",
       "3         5347       ROSELY APARECIDA MONTEIRO CALTABIANO FREITAS   \n",
       "4         6846                         BADU E FILHOS TECIDOS LTDA   \n",
       "\n",
       "   natureza_juridica  qualificacao_do_responsavel  capital_social_da_empresa  \\\n",
       "0               2240                           49                        0.0   \n",
       "1               2062                           49                        0.0   \n",
       "2               3034                           32                        0.0   \n",
       "3               2135                           50                        0.0   \n",
       "4               2062                           49                     4000.0   \n",
       "\n",
       "   porte_da_empresa ente_federativo_responsavel  \n",
       "0                 1                        None  \n",
       "1                 5                        None  \n",
       "2                 5                        None  \n",
       "3                 5                        None  \n",
       "4                 1                        None  "
      ]
     },
     "execution_count": 145,
     "metadata": {},
     "output_type": "execute_result"
    }
   ],
   "source": [
    "# Alterar o tipo de coluna string para double\n",
    "\n",
    "empresas = empresas.withColumn('capital_social_da_empresa', empresas['capital_social_da_empresa'].cast(DoubleType()))\n",
    "empresas.limit(5).toPandas()"
   ]
  },
  {
   "cell_type": "code",
   "execution_count": 146,
   "metadata": {},
   "outputs": [
    {
     "name": "stdout",
     "output_type": "stream",
     "text": [
      "root\n",
      " |-- cnpj_basico: integer (nullable = true)\n",
      " |-- razao_social_nome_empresarial: string (nullable = true)\n",
      " |-- natureza_juridica: integer (nullable = true)\n",
      " |-- qualificacao_do_responsavel: integer (nullable = true)\n",
      " |-- capital_social_da_empresa: double (nullable = true)\n",
      " |-- porte_da_empresa: integer (nullable = true)\n",
      " |-- ente_federativo_responsavel: string (nullable = true)\n",
      "\n"
     ]
    }
   ],
   "source": [
    "# Analisando o schema após alteração\n",
    "\n",
    "empresas.printSchema()"
   ]
  },
  {
   "cell_type": "markdown",
   "metadata": {},
   "source": [
    "### 2.1.4 Conversão de String para Date"
   ]
  },
  {
   "cell_type": "code",
   "execution_count": 147,
   "metadata": {},
   "outputs": [
    {
     "data": {
      "text/html": [
       "<div>\n",
       "<style scoped>\n",
       "    .dataframe tbody tr th:only-of-type {\n",
       "        vertical-align: middle;\n",
       "    }\n",
       "\n",
       "    .dataframe tbody tr th {\n",
       "        vertical-align: top;\n",
       "    }\n",
       "\n",
       "    .dataframe thead th {\n",
       "        text-align: right;\n",
       "    }\n",
       "</style>\n",
       "<table border=\"1\" class=\"dataframe\">\n",
       "  <thead>\n",
       "    <tr style=\"text-align: right;\">\n",
       "      <th></th>\n",
       "      <th>data</th>\n",
       "    </tr>\n",
       "  </thead>\n",
       "  <tbody>\n",
       "    <tr>\n",
       "      <th>0</th>\n",
       "      <td>20200924</td>\n",
       "    </tr>\n",
       "    <tr>\n",
       "      <th>1</th>\n",
       "      <td>20201022</td>\n",
       "    </tr>\n",
       "    <tr>\n",
       "      <th>2</th>\n",
       "      <td>20210215</td>\n",
       "    </tr>\n",
       "  </tbody>\n",
       "</table>\n",
       "</div>"
      ],
      "text/plain": [
       "       data\n",
       "0  20200924\n",
       "1  20201022\n",
       "2  20210215"
      ]
     },
     "execution_count": 147,
     "metadata": {},
     "output_type": "execute_result"
    }
   ],
   "source": [
    "# Criando uma DataFrame para exemplo de conversão String > Date\n",
    "\n",
    "df = spark.createDataFrame([(20200924,), (20201022,), (20210215,)], ['data'])\n",
    "df.toPandas()"
   ]
  },
  {
   "cell_type": "code",
   "execution_count": 148,
   "metadata": {},
   "outputs": [
    {
     "name": "stdout",
     "output_type": "stream",
     "text": [
      "root\n",
      " |-- data: long (nullable = true)\n",
      "\n"
     ]
    }
   ],
   "source": [
    "# Analisando o schema\n",
    "\n",
    "df.printSchema()"
   ]
  },
  {
   "cell_type": "code",
   "execution_count": 149,
   "metadata": {},
   "outputs": [
    {
     "name": "stdout",
     "output_type": "stream",
     "text": [
      "root\n",
      " |-- data: date (nullable = true)\n",
      "\n"
     ]
    }
   ],
   "source": [
    "# Exemplo de transformação\n",
    "\n",
    "df = df.withColumn(\"data\", f.to_date(df[\"data\"].cast(StringType()), 'yyyyMMdd'))\n",
    "df.printSchema()"
   ]
  },
  {
   "cell_type": "code",
   "execution_count": 150,
   "metadata": {},
   "outputs": [
    {
     "name": "stdout",
     "output_type": "stream",
     "text": [
      "root\n",
      " |-- cnpj_basico: integer (nullable = true)\n",
      " |-- cnpj_ordem: integer (nullable = true)\n",
      " |-- cnpj_dv: integer (nullable = true)\n",
      " |-- identificador_matriz_filial: integer (nullable = true)\n",
      " |-- nome_fantasia: string (nullable = true)\n",
      " |-- situacao_cadastral: integer (nullable = true)\n",
      " |-- data_situacao_cadastral: integer (nullable = true)\n",
      " |-- motivo_situacao_cadastral: integer (nullable = true)\n",
      " |-- nome_da_cidade_no_exterior: string (nullable = true)\n",
      " |-- pais: integer (nullable = true)\n",
      " |-- data_de_inicio_atividade: integer (nullable = true)\n",
      " |-- cnae_fiscal_principal: integer (nullable = true)\n",
      " |-- cnae_fiscal_secundaria: string (nullable = true)\n",
      " |-- tipo_de_logradouro: string (nullable = true)\n",
      " |-- logradouro: string (nullable = true)\n",
      " |-- numero: string (nullable = true)\n",
      " |-- complemento: string (nullable = true)\n",
      " |-- bairro: string (nullable = true)\n",
      " |-- cep: integer (nullable = true)\n",
      " |-- uf: string (nullable = true)\n",
      " |-- municipio: integer (nullable = true)\n",
      " |-- ddd_1: string (nullable = true)\n",
      " |-- telefone_1: string (nullable = true)\n",
      " |-- ddd_2: string (nullable = true)\n",
      " |-- telefone_2: string (nullable = true)\n",
      " |-- ddd_do_fax: integer (nullable = true)\n",
      " |-- fax: string (nullable = true)\n",
      " |-- correio_eletronico: string (nullable = true)\n",
      " |-- situacao_especial: string (nullable = true)\n",
      " |-- data_da_situacao_especial: integer (nullable = true)\n",
      "\n"
     ]
    }
   ],
   "source": [
    "# Analisando o schema de Estabelecimento para Transformar as colunas string em date\n",
    "\n",
    "estabelecimentos.printSchema()"
   ]
  },
  {
   "cell_type": "code",
   "execution_count": 151,
   "metadata": {},
   "outputs": [
    {
     "name": "stdout",
     "output_type": "stream",
     "text": [
      "root\n",
      " |-- data_da_situacao_especial: date (nullable = true)\n",
      " |-- data_de_inicio_atividade: date (nullable = true)\n",
      " |-- data_da_situacao_especial: date (nullable = true)\n",
      "\n"
     ]
    }
   ],
   "source": [
    "# Transformação string para date no dataset estabelecimentos\n",
    "\n",
    "#coluna data_situacao_cadastral\n",
    "estabelecimentos = estabelecimentos\\\n",
    "    .withColumn('data_situacao_cadastral', \n",
    "        f.to_date(estabelecimentos['data_situacao_cadastral'].cast(StringType()), 'yyyyMMdd'))\n",
    "\n",
    "#coluna data_de_inicio_atividade\n",
    "estabelecimentos = estabelecimentos\\\n",
    "    .withColumn('data_de_inicio_atividade', \n",
    "        f.to_date(estabelecimentos['data_de_inicio_atividade'].cast(StringType()), 'yyyyMMdd'))\n",
    "\n",
    "#coluna data_da_situacao_especial\n",
    "estabelecimentos = estabelecimentos\\\n",
    "    .withColumn('data_da_situacao_especial', \n",
    "        f.to_date(estabelecimentos['data_da_situacao_especial'].cast(StringType()), 'yyyyMMdd'))\n",
    "\n",
    "# Aferindo se realmente as mudanças ocorrem\n",
    "estabelecimentos[['data_da_situacao_especial', \"data_de_inicio_atividade\", \"data_da_situacao_especial\"]].printSchema()\n",
    "\n"
   ]
  },
  {
   "cell_type": "code",
   "execution_count": 152,
   "metadata": {},
   "outputs": [
    {
     "data": {
      "text/html": [
       "<div>\n",
       "<style scoped>\n",
       "    .dataframe tbody tr th:only-of-type {\n",
       "        vertical-align: middle;\n",
       "    }\n",
       "\n",
       "    .dataframe tbody tr th {\n",
       "        vertical-align: top;\n",
       "    }\n",
       "\n",
       "    .dataframe thead th {\n",
       "        text-align: right;\n",
       "    }\n",
       "</style>\n",
       "<table border=\"1\" class=\"dataframe\">\n",
       "  <thead>\n",
       "    <tr style=\"text-align: right;\">\n",
       "      <th></th>\n",
       "      <th>data_da_situacao_especial</th>\n",
       "      <th>data_de_inicio_atividade</th>\n",
       "      <th>data_da_situacao_especial</th>\n",
       "    </tr>\n",
       "  </thead>\n",
       "  <tbody>\n",
       "    <tr>\n",
       "      <th>0</th>\n",
       "      <td>None</td>\n",
       "      <td>1994-05-09</td>\n",
       "      <td>None</td>\n",
       "    </tr>\n",
       "    <tr>\n",
       "      <th>1</th>\n",
       "      <td>None</td>\n",
       "      <td>1994-05-12</td>\n",
       "      <td>None</td>\n",
       "    </tr>\n",
       "    <tr>\n",
       "      <th>2</th>\n",
       "      <td>None</td>\n",
       "      <td>1994-05-12</td>\n",
       "      <td>None</td>\n",
       "    </tr>\n",
       "    <tr>\n",
       "      <th>3</th>\n",
       "      <td>None</td>\n",
       "      <td>1994-05-13</td>\n",
       "      <td>None</td>\n",
       "    </tr>\n",
       "    <tr>\n",
       "      <th>4</th>\n",
       "      <td>None</td>\n",
       "      <td>1995-05-09</td>\n",
       "      <td>None</td>\n",
       "    </tr>\n",
       "  </tbody>\n",
       "</table>\n",
       "</div>"
      ],
      "text/plain": [
       "  data_da_situacao_especial data_de_inicio_atividade data_da_situacao_especial\n",
       "0                      None               1994-05-09                      None\n",
       "1                      None               1994-05-12                      None\n",
       "2                      None               1994-05-12                      None\n",
       "3                      None               1994-05-13                      None\n",
       "4                      None               1995-05-09                      None"
      ]
     },
     "execution_count": 152,
     "metadata": {},
     "output_type": "execute_result"
    }
   ],
   "source": [
    "# Analisando o schema após alteração\n",
    "\n",
    "estabelecimentos[['data_da_situacao_especial', \"data_de_inicio_atividade\", \"data_da_situacao_especial\"]].limit(5).toPandas()"
   ]
  },
  {
   "cell_type": "code",
   "execution_count": 153,
   "metadata": {},
   "outputs": [
    {
     "name": "stdout",
     "output_type": "stream",
     "text": [
      "root\n",
      " |-- cnpj_basico: integer (nullable = true)\n",
      " |-- identificador_de_socio: integer (nullable = true)\n",
      " |-- nome_do_socio_ou_razao_social: string (nullable = true)\n",
      " |-- cnpj_ou_cpf_do_socio: string (nullable = true)\n",
      " |-- qualificacao_do_socio: integer (nullable = true)\n",
      " |-- data_de_entrada_sociedade: integer (nullable = true)\n",
      " |-- pais: integer (nullable = true)\n",
      " |-- representante_legal: string (nullable = true)\n",
      " |-- nome_do_representante: string (nullable = true)\n",
      " |-- qualificacao_do_representante_legal: integer (nullable = true)\n",
      " |-- faixa_etaria: integer (nullable = true)\n",
      "\n"
     ]
    }
   ],
   "source": [
    "# Analisando o schema de socios para Transformar as colunas string em date\n",
    "\n",
    "socios.printSchema()"
   ]
  },
  {
   "cell_type": "code",
   "execution_count": 154,
   "metadata": {},
   "outputs": [
    {
     "name": "stdout",
     "output_type": "stream",
     "text": [
      "root\n",
      " |-- data_de_entrada_sociedade: date (nullable = true)\n",
      "\n"
     ]
    }
   ],
   "source": [
    "# Transformação string para date no dataset socios\n",
    "\n",
    "#coluna data_de_entradas_sociedade\n",
    "socios = socios\\\n",
    "    .withColumn('data_de_entrada_sociedade', \n",
    "        f.to_date(socios['data_de_entrada_sociedade'].cast(StringType()), 'yyyyMMdd'))\n",
    "\n",
    "# Aferindo se realmente as mudanças ocorrem\n",
    "socios[[\"data_de_entrada_sociedade\"]].printSchema()"
   ]
  },
  {
   "cell_type": "code",
   "execution_count": 155,
   "metadata": {},
   "outputs": [
    {
     "data": {
      "text/html": [
       "<div>\n",
       "<style scoped>\n",
       "    .dataframe tbody tr th:only-of-type {\n",
       "        vertical-align: middle;\n",
       "    }\n",
       "\n",
       "    .dataframe tbody tr th {\n",
       "        vertical-align: top;\n",
       "    }\n",
       "\n",
       "    .dataframe thead th {\n",
       "        text-align: right;\n",
       "    }\n",
       "</style>\n",
       "<table border=\"1\" class=\"dataframe\">\n",
       "  <thead>\n",
       "    <tr style=\"text-align: right;\">\n",
       "      <th></th>\n",
       "      <th>data_de_entrada_sociedade</th>\n",
       "    </tr>\n",
       "  </thead>\n",
       "  <tbody>\n",
       "    <tr>\n",
       "      <th>0</th>\n",
       "      <td>1994-07-25</td>\n",
       "    </tr>\n",
       "    <tr>\n",
       "      <th>1</th>\n",
       "      <td>1994-07-25</td>\n",
       "    </tr>\n",
       "    <tr>\n",
       "      <th>2</th>\n",
       "      <td>1994-05-16</td>\n",
       "    </tr>\n",
       "    <tr>\n",
       "      <th>3</th>\n",
       "      <td>1994-05-16</td>\n",
       "    </tr>\n",
       "    <tr>\n",
       "      <th>4</th>\n",
       "      <td>1994-06-09</td>\n",
       "    </tr>\n",
       "  </tbody>\n",
       "</table>\n",
       "</div>"
      ],
      "text/plain": [
       "  data_de_entrada_sociedade\n",
       "0                1994-07-25\n",
       "1                1994-07-25\n",
       "2                1994-05-16\n",
       "3                1994-05-16\n",
       "4                1994-06-09"
      ]
     },
     "execution_count": 155,
     "metadata": {},
     "output_type": "execute_result"
    }
   ],
   "source": [
    "# Analisando o schema após alteração\n",
    "socios[[\"data_de_entrada_sociedade\"]].limit(5).toPandas()"
   ]
  },
  {
   "cell_type": "markdown",
   "metadata": {},
   "source": [
    "# 2.2 Manipulação\n",
    "    \n",
    "### 2.2.1 SELECT"
   ]
  },
  {
   "cell_type": "code",
   "execution_count": 156,
   "metadata": {},
   "outputs": [
    {
     "name": "stdout",
     "output_type": "stream",
     "text": [
      "+-----------+--------------------------------------------------------------------------------------------+-----------------+---------------------------+-------------------------+----------------+---------------------------+\n",
      "|cnpj_basico|razao_social_nome_empresarial                                                               |natureza_juridica|qualificacao_do_responsavel|capital_social_da_empresa|porte_da_empresa|ente_federativo_responsavel|\n",
      "+-----------+--------------------------------------------------------------------------------------------+-----------------+---------------------------+-------------------------+----------------+---------------------------+\n",
      "|306        |FRANCAMAR REFRIGERACAO TECNICA S/C LTDA                                                     |2240             |49                         |0.0                      |1               |NULL                       |\n",
      "|1355       |BRASILEIRO & OLIVEIRA LTDA                                                                  |2062             |49                         |0.0                      |5               |NULL                       |\n",
      "|4820       |REGISTRO DE IMOVEIS, TABELIONATO 1 DE NOTAS E TABELIONATO E REGISTRO DE CONSTRATOS MARITIMOS|3034             |32                         |0.0                      |5               |NULL                       |\n",
      "|5347       |ROSELY APARECIDA MONTEIRO CALTABIANO FREITAS                                                |2135             |50                         |0.0                      |5               |NULL                       |\n",
      "|6846       |BADU E FILHOS TECIDOS LTDA                                                                  |2062             |49                         |4000.0                   |1               |NULL                       |\n",
      "+-----------+--------------------------------------------------------------------------------------------+-----------------+---------------------------+-------------------------+----------------+---------------------------+\n",
      "only showing top 5 rows\n",
      "\n"
     ]
    }
   ],
   "source": [
    "# Realizando consultas\n",
    "\n",
    "empresas\\\n",
    "    .select(\"*\")\\\n",
    "    .show(5, truncate=False)"
   ]
  },
  {
   "cell_type": "code",
   "execution_count": 157,
   "metadata": {},
   "outputs": [
    {
     "name": "stdout",
     "output_type": "stream",
     "text": [
      "+-----------------+----------------+-------------------------+\n",
      "|natureza_juridica|porte_da_empresa|capital_social_da_empresa|\n",
      "+-----------------+----------------+-------------------------+\n",
      "|2240             |1               |0.0                      |\n",
      "|2062             |5               |0.0                      |\n",
      "|3034             |5               |0.0                      |\n",
      "|2135             |5               |0.0                      |\n",
      "|2062             |1               |4000.0                   |\n",
      "+-----------------+----------------+-------------------------+\n",
      "only showing top 5 rows\n",
      "\n"
     ]
    }
   ],
   "source": [
    "# selecionando colunas desejadas\n",
    "\n",
    "empresas\\\n",
    "    .select(\"natureza_juridica\", \"porte_da_empresa\", \"capital_social_da_empresa\")\\\n",
    "    .show(5, truncate=False)"
   ]
  },
  {
   "cell_type": "markdown",
   "metadata": {},
   "source": [
    "### 2.2.2 Extraindo informações dos dados"
   ]
  },
  {
   "cell_type": "code",
   "execution_count": 158,
   "metadata": {},
   "outputs": [
    {
     "name": "stdout",
     "output_type": "stream",
     "text": [
      "+-------------------------------+------------+--------------+\n",
      "|nome_do_socio_ou_razao_social  |faixa_etaria|ano_de_entrada|\n",
      "+-------------------------------+------------+--------------+\n",
      "|LILIANA PATRICIA GUASTAVINO    |7           |1994          |\n",
      "|CRISTINA HUNDERTMARK           |7           |1994          |\n",
      "|CELSO EDUARDO DE CASTRO STEPHAN|8           |1994          |\n",
      "|EDUARDO BERRINGER STEPHAN      |5           |1994          |\n",
      "|HANNE MAHFOUD FADEL            |8           |1994          |\n",
      "+-------------------------------+------------+--------------+\n",
      "only showing top 5 rows\n",
      "\n"
     ]
    }
   ],
   "source": [
    "# Extraindo ano de entrada na sociedade da coluna data_de_entrada_sociedade\n",
    "\n",
    "socios\\\n",
    "    .select('nome_do_socio_ou_razao_social', 'faixa_etaria', f.year('data_de_entrada_sociedade').alias('ano_de_entrada'))\\\n",
    "    .show(5, truncate=False)"
   ]
  },
  {
   "cell_type": "code",
   "execution_count": 159,
   "metadata": {},
   "outputs": [
    {
     "name": "stdout",
     "output_type": "stream",
     "text": [
      "+-----------------+---------+-----------------------+-----------------------+\n",
      "|nome_fantasia    |municipio|ano_de_inicio_atividade|mes_de_inicio_atividade|\n",
      "+-----------------+---------+-----------------------+-----------------------+\n",
      "|PIRAMIDE M. C.   |7107     |1994                   |5                      |\n",
      "|NULL             |7107     |1994                   |5                      |\n",
      "|NULL             |7107     |1994                   |5                      |\n",
      "|NULL             |7107     |1994                   |5                      |\n",
      "|EMBROIDERY & GIFT|7075     |1995                   |5                      |\n",
      "+-----------------+---------+-----------------------+-----------------------+\n",
      "only showing top 5 rows\n",
      "\n"
     ]
    }
   ],
   "source": [
    "# Extraindo ano e mês de inicio das atividades da coluna ano_de_inicio_atividade\n",
    "\n",
    "estabelecimentos\\\n",
    "    .select('nome_fantasia', 'municipio', f.year('data_de_inicio_atividade').alias('ano_de_inicio_atividade')\\\n",
    "             ,f.month('data_de_inicio_atividade').alias('mes_de_inicio_atividade'))\\\n",
    "    .show(5, truncate=False)"
   ]
  },
  {
   "cell_type": "markdown",
   "metadata": {},
   "source": [
    "### 2.2.3 Concater informações e imprimir de acordo com uma lógica de ordem que as strings precisam aparecer"
   ]
  },
  {
   "cell_type": "code",
   "execution_count": 160,
   "metadata": {},
   "outputs": [
    {
     "name": "stdout",
     "output_type": "stream",
     "text": [
      "+------------------------------+-----+\n",
      "|nome                          |idade|\n",
      "+------------------------------+-----+\n",
      "|GISELLE PAULA GUIMARAES CASTRO|15   |\n",
      "|ELAINE GARCIA DE OLIVEIRA     |22   |\n",
      "|JOAO CARLOS ABNER DE LOURDES  |43   |\n",
      "|MARTA ZELI FERREIRA           |24   |\n",
      "|LAUDENETE WIGGERS ROEDER      |51   |\n",
      "+------------------------------+-----+\n",
      "\n"
     ]
    }
   ],
   "source": [
    "# Criando DataFrame para exemplo\n",
    "\n",
    "data = [\n",
    "    ('GISELLE PAULA GUIMARAES CASTRO', 15),\n",
    "    ('ELAINE GARCIA DE OLIVEIRA', 22),\n",
    "    ('JOAO CARLOS ABNER DE LOURDES', 43),\n",
    "    ('MARTA ZELI FERREIRA', 24),\n",
    "    ('LAUDENETE WIGGERS ROEDER', 51)\n",
    "]\n",
    "colNames = ['nome', 'idade']\n",
    "\n",
    "df = spark.createDataFrame(data, colNames)\n",
    "df.show(truncate=False)"
   ]
  },
  {
   "cell_type": "code",
   "execution_count": 161,
   "metadata": {},
   "outputs": [
    {
     "name": "stdout",
     "output_type": "stream",
     "text": [
      "+-----------------+-----+\n",
      "|ident            |idade|\n",
      "+-----------------+-----+\n",
      "|CASTRO, GISELLE  |15   |\n",
      "|OLIVEIRA, ELAINE |22   |\n",
      "|LOURDES, JOAO    |43   |\n",
      "|FERREIRA, MARTA  |24   |\n",
      "|ROEDER, LAUDENETE|51   |\n",
      "+-----------------+-----+\n",
      "\n"
     ]
    }
   ],
   "source": [
    "# Concatenando o ultimo nome com o primeiro nome\n",
    "\n",
    "df \\\n",
    "    .select(\n",
    "        f.concat_ws(\n",
    "            ', ', \n",
    "            f.substring_index('nome', ' ', -1), \n",
    "            f.substring_index('nome', ' ', 1)\n",
    "        ).alias('ident'), \n",
    "        'idade') \\\n",
    "    .show(truncate=False)"
   ]
  },
  {
   "cell_type": "markdown",
   "metadata": {},
   "source": [
    "### 2.2.4 Identificando valores nulos e contagem de nulos\n",
    "\n",
    "No contexto do Spark DataFrame, NaN, null e None são valores que representam dados ausentes, mas têm significados e comportamentos diferentes. Vamos detalhar cada um deles:\n",
    "\n",
    "* 1. NaN (Not a Number)\n",
    "Tipo: Utilizado principalmente com colunas de tipo FloatType e DoubleType.\n",
    "Significado: Representa um valor numérico indefinido ou não representável. Por exemplo, o resultado de 0.0/0.0 ou sqrt(-1.0).\n",
    "Comportamento: O NaN é tratado como um valor válido do ponto de vista do tipo de dado, mas não é igual a nenhum valor, incluindo ele mesmo (NaN != NaN). Operações matemáticas com NaN geralmente resultam em NaN.\n",
    "* 2. Null\n",
    "Tipo: Pode ser usado em qualquer tipo de dado.\n",
    "Significado: Representa a ausência de valor ou dado desconhecido.\n",
    "Comportamento: O Spark trata null de forma especial em operações de filtragem e agregação. Comparações com null geralmente resultam em null, e operações como somar null a um número resultam em null.\n",
    "* 3. None\n",
    "Tipo: Este é um valor do Python e não um tipo de dado Spark por si só.\n",
    "Significado: Em Python, None é o equivalente a null. Quando usado no contexto de Spark, ele é automaticamente convertido para null em um DataFrame.\n",
    "Comportamento: Quando você define um valor como None em uma coluna de um DataFrame Spark, ele será interpretado como null pelo Spark."
   ]
  },
  {
   "cell_type": "code",
   "execution_count": 162,
   "metadata": {},
   "outputs": [
    {
     "data": {
      "text/html": [
       "<div>\n",
       "<style scoped>\n",
       "    .dataframe tbody tr th:only-of-type {\n",
       "        vertical-align: middle;\n",
       "    }\n",
       "\n",
       "    .dataframe tbody tr th {\n",
       "        vertical-align: top;\n",
       "    }\n",
       "\n",
       "    .dataframe thead th {\n",
       "        text-align: right;\n",
       "    }\n",
       "</style>\n",
       "<table border=\"1\" class=\"dataframe\">\n",
       "  <thead>\n",
       "    <tr style=\"text-align: right;\">\n",
       "      <th></th>\n",
       "      <th>data</th>\n",
       "    </tr>\n",
       "  </thead>\n",
       "  <tbody>\n",
       "    <tr>\n",
       "      <th>0</th>\n",
       "      <td>1.0</td>\n",
       "    </tr>\n",
       "    <tr>\n",
       "      <th>1</th>\n",
       "      <td>2.0</td>\n",
       "    </tr>\n",
       "    <tr>\n",
       "      <th>2</th>\n",
       "      <td>3.0</td>\n",
       "    </tr>\n",
       "    <tr>\n",
       "      <th>3</th>\n",
       "      <td>NaN</td>\n",
       "    </tr>\n",
       "  </tbody>\n",
       "</table>\n",
       "</div>"
      ],
      "text/plain": [
       "   data\n",
       "0   1.0\n",
       "1   2.0\n",
       "2   3.0\n",
       "3   NaN"
      ]
     },
     "execution_count": 162,
     "metadata": {},
     "output_type": "execute_result"
    }
   ],
   "source": [
    "# Criando DataFrame para exemplo com nulo\n",
    "\n",
    "df = spark.createDataFrame([(1,), (2,), (3,), (None,)], ['data'])\n",
    "df.toPandas()\n",
    "\n",
    "# None = null\n",
    "# NaN = Not a number"
   ]
  },
  {
   "cell_type": "code",
   "execution_count": 163,
   "metadata": {},
   "outputs": [
    {
     "name": "stdout",
     "output_type": "stream",
     "text": [
      "+----+\n",
      "|data|\n",
      "+----+\n",
      "|   1|\n",
      "|   2|\n",
      "|   3|\n",
      "|NULL|\n",
      "+----+\n",
      "\n"
     ]
    }
   ],
   "source": [
    "# Visualizando o DataFrame\n",
    "\n",
    "df.show()"
   ]
  },
  {
   "cell_type": "code",
   "execution_count": 164,
   "metadata": {},
   "outputs": [
    {
     "data": {
      "text/html": [
       "<div>\n",
       "<style scoped>\n",
       "    .dataframe tbody tr th:only-of-type {\n",
       "        vertical-align: middle;\n",
       "    }\n",
       "\n",
       "    .dataframe tbody tr th {\n",
       "        vertical-align: top;\n",
       "    }\n",
       "\n",
       "    .dataframe thead th {\n",
       "        text-align: right;\n",
       "    }\n",
       "</style>\n",
       "<table border=\"1\" class=\"dataframe\">\n",
       "  <thead>\n",
       "    <tr style=\"text-align: right;\">\n",
       "      <th></th>\n",
       "      <th>data</th>\n",
       "    </tr>\n",
       "  </thead>\n",
       "  <tbody>\n",
       "    <tr>\n",
       "      <th>0</th>\n",
       "      <td>1.0</td>\n",
       "    </tr>\n",
       "    <tr>\n",
       "      <th>1</th>\n",
       "      <td>2.0</td>\n",
       "    </tr>\n",
       "    <tr>\n",
       "      <th>2</th>\n",
       "      <td>3.0</td>\n",
       "    </tr>\n",
       "    <tr>\n",
       "      <th>3</th>\n",
       "      <td>NaN</td>\n",
       "    </tr>\n",
       "  </tbody>\n",
       "</table>\n",
       "</div>"
      ],
      "text/plain": [
       "   data\n",
       "0   1.0\n",
       "1   2.0\n",
       "2   3.0\n",
       "3   NaN"
      ]
     },
     "execution_count": 164,
     "metadata": {},
     "output_type": "execute_result"
    }
   ],
   "source": [
    "# Criando DataFrame para exemplo com NaN (Not a number)\n",
    "\n",
    "df = spark.createDataFrame([(1.,), (2.,), (3.,), (float('nan'),)], ['data'])\n",
    "df.toPandas()"
   ]
  },
  {
   "cell_type": "code",
   "execution_count": 165,
   "metadata": {},
   "outputs": [
    {
     "name": "stdout",
     "output_type": "stream",
     "text": [
      "+----+\n",
      "|data|\n",
      "+----+\n",
      "| 1.0|\n",
      "| 2.0|\n",
      "| 3.0|\n",
      "| NaN|\n",
      "+----+\n",
      "\n"
     ]
    }
   ],
   "source": [
    "# Visualizando o DataFrame\n",
    "\n",
    "df.show()"
   ]
  },
  {
   "cell_type": "code",
   "execution_count": 166,
   "metadata": {},
   "outputs": [
    {
     "data": {
      "text/html": [
       "<div>\n",
       "<style scoped>\n",
       "    .dataframe tbody tr th:only-of-type {\n",
       "        vertical-align: middle;\n",
       "    }\n",
       "\n",
       "    .dataframe tbody tr th {\n",
       "        vertical-align: top;\n",
       "    }\n",
       "\n",
       "    .dataframe thead th {\n",
       "        text-align: right;\n",
       "    }\n",
       "</style>\n",
       "<table border=\"1\" class=\"dataframe\">\n",
       "  <thead>\n",
       "    <tr style=\"text-align: right;\">\n",
       "      <th></th>\n",
       "      <th>data</th>\n",
       "    </tr>\n",
       "  </thead>\n",
       "  <tbody>\n",
       "    <tr>\n",
       "      <th>0</th>\n",
       "      <td>1</td>\n",
       "    </tr>\n",
       "    <tr>\n",
       "      <th>1</th>\n",
       "      <td>2</td>\n",
       "    </tr>\n",
       "    <tr>\n",
       "      <th>2</th>\n",
       "      <td>3</td>\n",
       "    </tr>\n",
       "    <tr>\n",
       "      <th>3</th>\n",
       "      <td>None</td>\n",
       "    </tr>\n",
       "  </tbody>\n",
       "</table>\n",
       "</div>"
      ],
      "text/plain": [
       "   data\n",
       "0     1\n",
       "1     2\n",
       "2     3\n",
       "3  None"
      ]
     },
     "execution_count": 166,
     "metadata": {},
     "output_type": "execute_result"
    }
   ],
   "source": [
    "df = spark.createDataFrame([('1',), ('2',), ('3',), (None,)], ['data'])\n",
    "df.toPandas()"
   ]
  },
  {
   "cell_type": "code",
   "execution_count": 167,
   "metadata": {},
   "outputs": [
    {
     "name": "stdout",
     "output_type": "stream",
     "text": [
      "+----+\n",
      "|data|\n",
      "+----+\n",
      "|   1|\n",
      "|   2|\n",
      "|   3|\n",
      "|NULL|\n",
      "+----+\n",
      "\n"
     ]
    }
   ],
   "source": [
    "df.show()"
   ]
  },
  {
   "cell_type": "code",
   "execution_count": 168,
   "metadata": {},
   "outputs": [
    {
     "name": "stdout",
     "output_type": "stream",
     "text": [
      "+-----------+----------------------+-----------------------------+--------------------+---------------------+-------------------------+----+-------------------+---------------------+-----------------------------------+------------+\n",
      "|cnpj_basico|identificador_de_socio|nome_do_socio_ou_razao_social|cnpj_ou_cpf_do_socio|qualificacao_do_socio|data_de_entrada_sociedade|pais|representante_legal|nome_do_representante|qualificacao_do_representante_legal|faixa_etaria|\n",
      "+-----------+----------------------+-----------------------------+--------------------+---------------------+-------------------------+----+-------------------+---------------------+-----------------------------------+------------+\n",
      "|        411|                     2|         LILIANA PATRICIA ...|         ***678188**|                   22|               1994-07-25|NULL|        ***000000**|                 NULL|                                  0|           7|\n",
      "|        411|                     2|         CRISTINA HUNDERTMARK|         ***637848**|                   28|               1994-07-25|NULL|        ***000000**|                 NULL|                                  0|           7|\n",
      "|       5813|                     2|         CELSO EDUARDO DE ...|         ***786068**|                   49|               1994-05-16|NULL|        ***000000**|                 NULL|                                  0|           8|\n",
      "|       5813|                     2|         EDUARDO BERRINGER...|         ***442348**|                   49|               1994-05-16|NULL|        ***000000**|                 NULL|                                  0|           5|\n",
      "|      14798|                     2|          HANNE MAHFOUD FADEL|         ***760388**|                   49|               1994-06-09|NULL|        ***000000**|                 NULL|                                  0|           8|\n",
      "+-----------+----------------------+-----------------------------+--------------------+---------------------+-------------------------+----+-------------------+---------------------+-----------------------------------+------------+\n",
      "\n"
     ]
    }
   ],
   "source": [
    "# Avaliando valores nulos na tabela Socios\n",
    "\n",
    "socios.limit(5).show()"
   ]
  },
  {
   "cell_type": "code",
   "execution_count": 169,
   "metadata": {},
   "outputs": [
    {
     "name": "stderr",
     "output_type": "stream",
     "text": [
      "[Stage 51:==================================>                      (6 + 4) / 10]\r"
     ]
    },
    {
     "name": "stdout",
     "output_type": "stream",
     "text": [
      "+-----------+----------------------+-----------------------------+--------------------+---------------------+-------------------------+-------+-------------------+---------------------+-----------------------------------+------------+\n",
      "|cnpj_basico|identificador_de_socio|nome_do_socio_ou_razao_social|cnpj_ou_cpf_do_socio|qualificacao_do_socio|data_de_entrada_sociedade|   pais|representante_legal|nome_do_representante|qualificacao_do_representante_legal|faixa_etaria|\n",
      "+-----------+----------------------+-----------------------------+--------------------+---------------------+-------------------------+-------+-------------------+---------------------+-----------------------------------+------------+\n",
      "|          0|                     0|                          208|                1234|                    0|                        1|2038255|                  0|              1995432|                                  0|           0|\n",
      "+-----------+----------------------+-----------------------------+--------------------+---------------------+-------------------------+-------+-------------------+---------------------+-----------------------------------+------------+\n",
      "\n"
     ]
    },
    {
     "name": "stderr",
     "output_type": "stream",
     "text": [
      "                                                                                \r"
     ]
    }
   ],
   "source": [
    "# contagem de nulos por colunas\n",
    "\n",
    "socios.select([f.count(f.when(f.isnull(c), 1)).alias(c) for c in socios.columns]).show()"
   ]
  },
  {
   "cell_type": "markdown",
   "metadata": {},
   "source": [
    "### 2.2.5 Substituindo os valores de nulos em campos integers e string"
   ]
  },
  {
   "cell_type": "code",
   "execution_count": 170,
   "metadata": {},
   "outputs": [
    {
     "data": {
      "text/html": [
       "<div>\n",
       "<style scoped>\n",
       "    .dataframe tbody tr th:only-of-type {\n",
       "        vertical-align: middle;\n",
       "    }\n",
       "\n",
       "    .dataframe tbody tr th {\n",
       "        vertical-align: top;\n",
       "    }\n",
       "\n",
       "    .dataframe thead th {\n",
       "        text-align: right;\n",
       "    }\n",
       "</style>\n",
       "<table border=\"1\" class=\"dataframe\">\n",
       "  <thead>\n",
       "    <tr style=\"text-align: right;\">\n",
       "      <th></th>\n",
       "      <th>cnpj_basico</th>\n",
       "      <th>identificador_de_socio</th>\n",
       "      <th>nome_do_socio_ou_razao_social</th>\n",
       "      <th>cnpj_ou_cpf_do_socio</th>\n",
       "      <th>qualificacao_do_socio</th>\n",
       "      <th>data_de_entrada_sociedade</th>\n",
       "      <th>pais</th>\n",
       "      <th>representante_legal</th>\n",
       "      <th>nome_do_representante</th>\n",
       "      <th>qualificacao_do_representante_legal</th>\n",
       "      <th>faixa_etaria</th>\n",
       "    </tr>\n",
       "  </thead>\n",
       "  <tbody>\n",
       "    <tr>\n",
       "      <th>0</th>\n",
       "      <td>411</td>\n",
       "      <td>2</td>\n",
       "      <td>LILIANA PATRICIA GUASTAVINO</td>\n",
       "      <td>***678188**</td>\n",
       "      <td>22</td>\n",
       "      <td>1994-07-25</td>\n",
       "      <td>0</td>\n",
       "      <td>***000000**</td>\n",
       "      <td>None</td>\n",
       "      <td>0</td>\n",
       "      <td>7</td>\n",
       "    </tr>\n",
       "    <tr>\n",
       "      <th>1</th>\n",
       "      <td>411</td>\n",
       "      <td>2</td>\n",
       "      <td>CRISTINA HUNDERTMARK</td>\n",
       "      <td>***637848**</td>\n",
       "      <td>28</td>\n",
       "      <td>1994-07-25</td>\n",
       "      <td>0</td>\n",
       "      <td>***000000**</td>\n",
       "      <td>None</td>\n",
       "      <td>0</td>\n",
       "      <td>7</td>\n",
       "    </tr>\n",
       "    <tr>\n",
       "      <th>2</th>\n",
       "      <td>5813</td>\n",
       "      <td>2</td>\n",
       "      <td>CELSO EDUARDO DE CASTRO STEPHAN</td>\n",
       "      <td>***786068**</td>\n",
       "      <td>49</td>\n",
       "      <td>1994-05-16</td>\n",
       "      <td>0</td>\n",
       "      <td>***000000**</td>\n",
       "      <td>None</td>\n",
       "      <td>0</td>\n",
       "      <td>8</td>\n",
       "    </tr>\n",
       "    <tr>\n",
       "      <th>3</th>\n",
       "      <td>5813</td>\n",
       "      <td>2</td>\n",
       "      <td>EDUARDO BERRINGER STEPHAN</td>\n",
       "      <td>***442348**</td>\n",
       "      <td>49</td>\n",
       "      <td>1994-05-16</td>\n",
       "      <td>0</td>\n",
       "      <td>***000000**</td>\n",
       "      <td>None</td>\n",
       "      <td>0</td>\n",
       "      <td>5</td>\n",
       "    </tr>\n",
       "    <tr>\n",
       "      <th>4</th>\n",
       "      <td>14798</td>\n",
       "      <td>2</td>\n",
       "      <td>HANNE MAHFOUD FADEL</td>\n",
       "      <td>***760388**</td>\n",
       "      <td>49</td>\n",
       "      <td>1994-06-09</td>\n",
       "      <td>0</td>\n",
       "      <td>***000000**</td>\n",
       "      <td>None</td>\n",
       "      <td>0</td>\n",
       "      <td>8</td>\n",
       "    </tr>\n",
       "  </tbody>\n",
       "</table>\n",
       "</div>"
      ],
      "text/plain": [
       "   cnpj_basico  identificador_de_socio    nome_do_socio_ou_razao_social  \\\n",
       "0          411                       2      LILIANA PATRICIA GUASTAVINO   \n",
       "1          411                       2             CRISTINA HUNDERTMARK   \n",
       "2         5813                       2  CELSO EDUARDO DE CASTRO STEPHAN   \n",
       "3         5813                       2        EDUARDO BERRINGER STEPHAN   \n",
       "4        14798                       2              HANNE MAHFOUD FADEL   \n",
       "\n",
       "  cnpj_ou_cpf_do_socio  qualificacao_do_socio data_de_entrada_sociedade  pais  \\\n",
       "0          ***678188**                     22                1994-07-25     0   \n",
       "1          ***637848**                     28                1994-07-25     0   \n",
       "2          ***786068**                     49                1994-05-16     0   \n",
       "3          ***442348**                     49                1994-05-16     0   \n",
       "4          ***760388**                     49                1994-06-09     0   \n",
       "\n",
       "  representante_legal nome_do_representante  \\\n",
       "0         ***000000**                  None   \n",
       "1         ***000000**                  None   \n",
       "2         ***000000**                  None   \n",
       "3         ***000000**                  None   \n",
       "4         ***000000**                  None   \n",
       "\n",
       "   qualificacao_do_representante_legal  faixa_etaria  \n",
       "0                                    0             7  \n",
       "1                                    0             7  \n",
       "2                                    0             8  \n",
       "3                                    0             5  \n",
       "4                                    0             8  "
      ]
     },
     "execution_count": 170,
     "metadata": {},
     "output_type": "execute_result"
    }
   ],
   "source": [
    "#Substituindo os valores de nulos em socios, campo integer\n",
    "\n",
    "# Método para inteiros (integer)\n",
    "socios.na.fill(0).limit(5).toPandas()"
   ]
  },
  {
   "cell_type": "code",
   "execution_count": 171,
   "metadata": {},
   "outputs": [
    {
     "data": {
      "text/html": [
       "<div>\n",
       "<style scoped>\n",
       "    .dataframe tbody tr th:only-of-type {\n",
       "        vertical-align: middle;\n",
       "    }\n",
       "\n",
       "    .dataframe tbody tr th {\n",
       "        vertical-align: top;\n",
       "    }\n",
       "\n",
       "    .dataframe thead th {\n",
       "        text-align: right;\n",
       "    }\n",
       "</style>\n",
       "<table border=\"1\" class=\"dataframe\">\n",
       "  <thead>\n",
       "    <tr style=\"text-align: right;\">\n",
       "      <th></th>\n",
       "      <th>cnpj_basico</th>\n",
       "      <th>identificador_de_socio</th>\n",
       "      <th>nome_do_socio_ou_razao_social</th>\n",
       "      <th>cnpj_ou_cpf_do_socio</th>\n",
       "      <th>qualificacao_do_socio</th>\n",
       "      <th>data_de_entrada_sociedade</th>\n",
       "      <th>pais</th>\n",
       "      <th>representante_legal</th>\n",
       "      <th>nome_do_representante</th>\n",
       "      <th>qualificacao_do_representante_legal</th>\n",
       "      <th>faixa_etaria</th>\n",
       "    </tr>\n",
       "  </thead>\n",
       "  <tbody>\n",
       "    <tr>\n",
       "      <th>0</th>\n",
       "      <td>411</td>\n",
       "      <td>2</td>\n",
       "      <td>LILIANA PATRICIA GUASTAVINO</td>\n",
       "      <td>***678188**</td>\n",
       "      <td>22</td>\n",
       "      <td>1994-07-25</td>\n",
       "      <td>NaN</td>\n",
       "      <td>***000000**</td>\n",
       "      <td>-</td>\n",
       "      <td>0</td>\n",
       "      <td>7</td>\n",
       "    </tr>\n",
       "    <tr>\n",
       "      <th>1</th>\n",
       "      <td>411</td>\n",
       "      <td>2</td>\n",
       "      <td>CRISTINA HUNDERTMARK</td>\n",
       "      <td>***637848**</td>\n",
       "      <td>28</td>\n",
       "      <td>1994-07-25</td>\n",
       "      <td>NaN</td>\n",
       "      <td>***000000**</td>\n",
       "      <td>-</td>\n",
       "      <td>0</td>\n",
       "      <td>7</td>\n",
       "    </tr>\n",
       "    <tr>\n",
       "      <th>2</th>\n",
       "      <td>5813</td>\n",
       "      <td>2</td>\n",
       "      <td>CELSO EDUARDO DE CASTRO STEPHAN</td>\n",
       "      <td>***786068**</td>\n",
       "      <td>49</td>\n",
       "      <td>1994-05-16</td>\n",
       "      <td>NaN</td>\n",
       "      <td>***000000**</td>\n",
       "      <td>-</td>\n",
       "      <td>0</td>\n",
       "      <td>8</td>\n",
       "    </tr>\n",
       "    <tr>\n",
       "      <th>3</th>\n",
       "      <td>5813</td>\n",
       "      <td>2</td>\n",
       "      <td>EDUARDO BERRINGER STEPHAN</td>\n",
       "      <td>***442348**</td>\n",
       "      <td>49</td>\n",
       "      <td>1994-05-16</td>\n",
       "      <td>NaN</td>\n",
       "      <td>***000000**</td>\n",
       "      <td>-</td>\n",
       "      <td>0</td>\n",
       "      <td>5</td>\n",
       "    </tr>\n",
       "    <tr>\n",
       "      <th>4</th>\n",
       "      <td>14798</td>\n",
       "      <td>2</td>\n",
       "      <td>HANNE MAHFOUD FADEL</td>\n",
       "      <td>***760388**</td>\n",
       "      <td>49</td>\n",
       "      <td>1994-06-09</td>\n",
       "      <td>NaN</td>\n",
       "      <td>***000000**</td>\n",
       "      <td>-</td>\n",
       "      <td>0</td>\n",
       "      <td>8</td>\n",
       "    </tr>\n",
       "  </tbody>\n",
       "</table>\n",
       "</div>"
      ],
      "text/plain": [
       "   cnpj_basico  identificador_de_socio    nome_do_socio_ou_razao_social  \\\n",
       "0          411                       2      LILIANA PATRICIA GUASTAVINO   \n",
       "1          411                       2             CRISTINA HUNDERTMARK   \n",
       "2         5813                       2  CELSO EDUARDO DE CASTRO STEPHAN   \n",
       "3         5813                       2        EDUARDO BERRINGER STEPHAN   \n",
       "4        14798                       2              HANNE MAHFOUD FADEL   \n",
       "\n",
       "  cnpj_ou_cpf_do_socio  qualificacao_do_socio data_de_entrada_sociedade  pais  \\\n",
       "0          ***678188**                     22                1994-07-25   NaN   \n",
       "1          ***637848**                     28                1994-07-25   NaN   \n",
       "2          ***786068**                     49                1994-05-16   NaN   \n",
       "3          ***442348**                     49                1994-05-16   NaN   \n",
       "4          ***760388**                     49                1994-06-09   NaN   \n",
       "\n",
       "  representante_legal nome_do_representante  \\\n",
       "0         ***000000**                     -   \n",
       "1         ***000000**                     -   \n",
       "2         ***000000**                     -   \n",
       "3         ***000000**                     -   \n",
       "4         ***000000**                     -   \n",
       "\n",
       "   qualificacao_do_representante_legal  faixa_etaria  \n",
       "0                                    0             7  \n",
       "1                                    0             7  \n",
       "2                                    0             8  \n",
       "3                                    0             5  \n",
       "4                                    0             8  "
      ]
     },
     "execution_count": 171,
     "metadata": {},
     "output_type": "execute_result"
    }
   ],
   "source": [
    "#Substituindo os valores de nulos em socios, campo string\n",
    "\n",
    "# Método para texto (string)\n",
    "socios.na.fill(\"-\").limit(5).toPandas()"
   ]
  },
  {
   "cell_type": "markdown",
   "metadata": {},
   "source": [
    "### 2.2.5 Ordenando os dados"
   ]
  },
  {
   "cell_type": "code",
   "execution_count": 172,
   "metadata": {},
   "outputs": [
    {
     "name": "stderr",
     "output_type": "stream",
     "text": [
      "[Stage 56:==================================>                      (6 + 4) / 10]\r"
     ]
    },
    {
     "name": "stdout",
     "output_type": "stream",
     "text": [
      "+----------------------------------+------------+--------------+\n",
      "|nome_do_socio_ou_razao_social     |faixa_etaria|ano_de_entrada|\n",
      "+----------------------------------+------------+--------------+\n",
      "|RANIERE DE FREITAS ANDRADE        |4           |2021          |\n",
      "|ANA LUCIA ALVES DE CARVALHO       |5           |2021          |\n",
      "|ANTONIO JOSE HENRIQUE MORAIS LOPES|3           |2021          |\n",
      "|JORGE RODRIGUES SANTOS            |6           |2021          |\n",
      "|DOUGLAS CAPPELLETTI               |3           |2021          |\n",
      "+----------------------------------+------------+--------------+\n",
      "only showing top 5 rows\n",
      "\n"
     ]
    },
    {
     "name": "stderr",
     "output_type": "stream",
     "text": [
      "                                                                                \r"
     ]
    }
   ],
   "source": [
    "# Ordenando a coluna ano_de_entrada de forma descrecente\n",
    "\n",
    "socios\\\n",
    "    .select('nome_do_socio_ou_razao_social', 'faixa_etaria', f.year('data_de_entrada_sociedade').alias('ano_de_entrada'))\\\n",
    "    .orderBy('ano_de_entrada', ascending=False)\\\n",
    "    .show(5, truncate=False)"
   ]
  },
  {
   "cell_type": "code",
   "execution_count": 173,
   "metadata": {},
   "outputs": [
    {
     "name": "stderr",
     "output_type": "stream",
     "text": [
      "[Stage 57:==================================>                      (6 + 4) / 10]\r"
     ]
    },
    {
     "name": "stdout",
     "output_type": "stream",
     "text": [
      "+-------------------------------------+------------+--------------+\n",
      "|nome_do_socio_ou_razao_social        |faixa_etaria|ano_de_entrada|\n",
      "+-------------------------------------+------------+--------------+\n",
      "|MARIA RAIMUNDA DOS SANTOS LANZA      |9           |2021          |\n",
      "|LUZINETE DANTAS DE OLIVEIRA RODRIGUES|9           |2021          |\n",
      "|ANDRE PAUL GABAY                     |9           |2021          |\n",
      "|JOAO KOJIN                           |9           |2021          |\n",
      "|ALDO SANTI                           |9           |2021          |\n",
      "|FERNANDO MARCONDES DE MATTOS         |9           |2021          |\n",
      "|FLORIDA ECHECHIPIA                   |9           |2021          |\n",
      "|YARA CABRAL PINTO                    |9           |2021          |\n",
      "|APPARECIDA ALBANI DE LIMA            |9           |2021          |\n",
      "|JOSE CURADO ADORNO                   |9           |2021          |\n",
      "+-------------------------------------+------------+--------------+\n",
      "only showing top 10 rows\n",
      "\n"
     ]
    },
    {
     "name": "stderr",
     "output_type": "stream",
     "text": [
      "                                                                                \r"
     ]
    }
   ],
   "source": [
    "# Ordenando duas colunas, ano_de_entrada e faixa_etaria\n",
    "\n",
    "socios\\\n",
    "    .select('nome_do_socio_ou_razao_social', 'faixa_etaria', f.year('data_de_entrada_sociedade').alias('ano_de_entrada'))\\\n",
    "    .orderBy(['ano_de_entrada', 'faixa_etaria'], ascending=[False, False])\\\n",
    "    .show(10, truncate=False)"
   ]
  },
  {
   "cell_type": "code",
   "execution_count": 174,
   "metadata": {},
   "outputs": [
    {
     "name": "stdout",
     "output_type": "stream",
     "text": [
      "+---------------------+---+----+\n",
      "|nome                 |mes|ano |\n",
      "+---------------------+---+----+\n",
      "|CARMINA RABELO       |4  |2010|\n",
      "|HERONDINA PEREIRA    |6  |2009|\n",
      "|IRANI DOS SANTOS     |12 |2010|\n",
      "|JOAO BOSCO DA FONSECA|3  |2009|\n",
      "|CARLITO SOUZA        |1  |2010|\n",
      "|WALTER DIAS          |9  |2009|\n",
      "|BRENO VENTUROSO      |1  |2009|\n",
      "|ADELINA TEIXEIRA     |5  |2009|\n",
      "|ELIO SILVA           |7  |2010|\n",
      "|DENIS FONSECA        |6  |2010|\n",
      "+---------------------+---+----+\n",
      "\n",
      "+---------------------+---+----+\n",
      "|nome                 |mes|ano |\n",
      "+---------------------+---+----+\n",
      "|BRENO VENTUROSO      |1  |2009|\n",
      "|JOAO BOSCO DA FONSECA|3  |2009|\n",
      "|ADELINA TEIXEIRA     |5  |2009|\n",
      "|HERONDINA PEREIRA    |6  |2009|\n",
      "|WALTER DIAS          |9  |2009|\n",
      "|CARLITO SOUZA        |1  |2010|\n",
      "|CARMINA RABELO       |4  |2010|\n",
      "|DENIS FONSECA        |6  |2010|\n",
      "|ELIO SILVA           |7  |2010|\n",
      "|IRANI DOS SANTOS     |12 |2010|\n",
      "+---------------------+---+----+\n",
      "\n"
     ]
    }
   ],
   "source": [
    "# Para fixação, será criado DataFrame de alunos para ordenação \n",
    "\n",
    "data = [\n",
    "    ('CARMINA RABELO', 4, 2010), \n",
    "    ('HERONDINA PEREIRA', 6, 2009), \n",
    "    ('IRANI DOS SANTOS', 12, 2010), \n",
    "    ('JOAO BOSCO DA FONSECA', 3, 2009), \n",
    "    ('CARLITO SOUZA', 1, 2010), \n",
    "    ('WALTER DIAS', 9, 2009), \n",
    "    ('BRENO VENTUROSO', 1, 2009), \n",
    "    ('ADELINA TEIXEIRA', 5, 2009), \n",
    "    ('ELIO SILVA', 7, 2010), \n",
    "    ('DENIS FONSECA', 6, 2010)\n",
    "]\n",
    "colNames = ['nome', 'mes', 'ano']\n",
    "df = spark.createDataFrame(data, colNames)\n",
    "df.show(truncate=False)\n",
    "\n",
    "# Ordenando dos alunos mais novos para os mais velhos.\n",
    "\n",
    "df\\\n",
    "    .select(\"*\")\\\n",
    "    .orderBy(['ano', 'mes'], ascending=[True, True])\\\n",
    "    .show(truncate=False)"
   ]
  },
  {
   "cell_type": "markdown",
   "metadata": {},
   "source": [
    "### 2.2.6    Criando Filtros\n",
    "\n",
    "### DataFrame.where(condition) ou DataFrame.filter(condition), são a mesma coisa em spark."
   ]
  },
  {
   "cell_type": "code",
   "execution_count": 175,
   "metadata": {},
   "outputs": [
    {
     "name": "stdout",
     "output_type": "stream",
     "text": [
      "+-----------+------------------------------------+-----------------+---------------------------+-------------------------+----------------+---------------------------+\n",
      "|cnpj_basico|razao_social_nome_empresarial       |natureza_juridica|qualificacao_do_responsavel|capital_social_da_empresa|porte_da_empresa|ente_federativo_responsavel|\n",
      "+-----------+------------------------------------+-----------------+---------------------------+-------------------------+----------------+---------------------------+\n",
      "|17350147   |ERIK MARCELO DOS SANTOS 42107848858 |2135             |50                         |50.0                     |1               |NULL                       |\n",
      "|17833214   |ALEXANDRE MACHADO LIMA 73750123772  |2135             |50                         |50.0                     |1               |NULL                       |\n",
      "|20860830   |YASMIN MOURA DA FONSECA 13457709793 |2135             |50                         |50.0                     |1               |NULL                       |\n",
      "|22242856   |JOAO CESAR MESSIAS 08707149883      |2135             |50                         |50.0                     |1               |NULL                       |\n",
      "|23238540   |EVERTON ROBERTO DA SILVA 42101963809|2135             |50                         |50.0                     |1               |NULL                       |\n",
      "+-----------+------------------------------------+-----------------+---------------------------+-------------------------+----------------+---------------------------+\n",
      "only showing top 5 rows\n",
      "\n"
     ]
    }
   ],
   "source": [
    "# Realizando apenas um filtro\n",
    "\n",
    "empresas\\\n",
    "    .where(\"capital_social_da_empresa==50\")\\\n",
    "    .show(5, truncate=False)"
   ]
  },
  {
   "cell_type": "code",
   "execution_count": 176,
   "metadata": {},
   "outputs": [
    {
     "data": {
      "text/html": [
       "<div>\n",
       "<style scoped>\n",
       "    .dataframe tbody tr th:only-of-type {\n",
       "        vertical-align: middle;\n",
       "    }\n",
       "\n",
       "    .dataframe tbody tr th {\n",
       "        vertical-align: top;\n",
       "    }\n",
       "\n",
       "    .dataframe thead th {\n",
       "        text-align: right;\n",
       "    }\n",
       "</style>\n",
       "<table border=\"1\" class=\"dataframe\">\n",
       "  <thead>\n",
       "    <tr style=\"text-align: right;\">\n",
       "      <th></th>\n",
       "      <th>nome_do_socio_ou_razao_social</th>\n",
       "    </tr>\n",
       "  </thead>\n",
       "  <tbody>\n",
       "    <tr>\n",
       "      <th>0</th>\n",
       "      <td>LEONARDO FERREIRA DA SILVA</td>\n",
       "    </tr>\n",
       "    <tr>\n",
       "      <th>1</th>\n",
       "      <td>LEONARDO MARTINS SILVA</td>\n",
       "    </tr>\n",
       "    <tr>\n",
       "      <th>2</th>\n",
       "      <td>LEONARDO CANDIDO DA SILVA</td>\n",
       "    </tr>\n",
       "    <tr>\n",
       "      <th>3</th>\n",
       "      <td>LEONARDO HENRIQUE DE OLIVEIRA SILVA</td>\n",
       "    </tr>\n",
       "    <tr>\n",
       "      <th>4</th>\n",
       "      <td>LEONARDO MARTINS SILVA</td>\n",
       "    </tr>\n",
       "    <tr>\n",
       "      <th>5</th>\n",
       "      <td>LEONARDO DE SANTIS VIEIRA DA SILVA</td>\n",
       "    </tr>\n",
       "    <tr>\n",
       "      <th>6</th>\n",
       "      <td>LEONARDO HENRIQUE DO NASCIMENTO E SILVA</td>\n",
       "    </tr>\n",
       "    <tr>\n",
       "      <th>7</th>\n",
       "      <td>LEONARDO SILVA</td>\n",
       "    </tr>\n",
       "    <tr>\n",
       "      <th>8</th>\n",
       "      <td>LEONARDO DO VALLE DA SILVA</td>\n",
       "    </tr>\n",
       "    <tr>\n",
       "      <th>9</th>\n",
       "      <td>LEONARDO GOMES DA SILVA</td>\n",
       "    </tr>\n",
       "  </tbody>\n",
       "</table>\n",
       "</div>"
      ],
      "text/plain": [
       "             nome_do_socio_ou_razao_social\n",
       "0               LEONARDO FERREIRA DA SILVA\n",
       "1                   LEONARDO MARTINS SILVA\n",
       "2                LEONARDO CANDIDO DA SILVA\n",
       "3      LEONARDO HENRIQUE DE OLIVEIRA SILVA\n",
       "4                   LEONARDO MARTINS SILVA\n",
       "5       LEONARDO DE SANTIS VIEIRA DA SILVA\n",
       "6  LEONARDO HENRIQUE DO NASCIMENTO E SILVA\n",
       "7                           LEONARDO SILVA\n",
       "8               LEONARDO DO VALLE DA SILVA\n",
       "9                  LEONARDO GOMES DA SILVA"
      ]
     },
     "execution_count": 176,
     "metadata": {},
     "output_type": "execute_result"
    }
   ],
   "source": [
    "# Realizando dois filtros\n",
    "\n",
    "socios\\\n",
    "    .select('nome_do_socio_ou_razao_social')\\\n",
    "    .filter(socios['nome_do_socio_ou_razao_social'].startswith(\"LEONARDO\"))\\\n",
    "    .filter(socios['nome_do_socio_ou_razao_social'].endswith(\"SILVA\"))\\\n",
    "    .limit(10)\\\n",
    "    .toPandas()"
   ]
  },
  {
   "cell_type": "code",
   "execution_count": 177,
   "metadata": {},
   "outputs": [
    {
     "name": "stdout",
     "output_type": "stream",
     "text": [
      "+---------------------+---+----+\n",
      "|nome                 |mes|ano |\n",
      "+---------------------+---+----+\n",
      "|CARMINA RABELO       |4  |2010|\n",
      "|HERONDINA PEREIRA    |6  |2009|\n",
      "|IRANI DOS SANTOS     |12 |2010|\n",
      "|JOAO BOSCO DA FONSECA|3  |2009|\n",
      "|CARLITO SOUZA        |1  |2010|\n",
      "|WALTER DIAS          |9  |2009|\n",
      "|BRENO VENTUROSO      |1  |2009|\n",
      "|ADELINA TEIXEIRA     |5  |2009|\n",
      "|ELIO SILVA           |7  |2010|\n",
      "|DENIS FONSECA        |6  |2010|\n",
      "+---------------------+---+----+\n",
      "\n",
      "+---------------------+---+----+\n",
      "|nome                 |mes|ano |\n",
      "+---------------------+---+----+\n",
      "|HERONDINA PEREIRA    |6  |2009|\n",
      "|JOAO BOSCO DA FONSECA|3  |2009|\n",
      "|BRENO VENTUROSO      |1  |2009|\n",
      "|ADELINA TEIXEIRA     |5  |2009|\n",
      "+---------------------+---+----+\n",
      "\n"
     ]
    }
   ],
   "source": [
    "# Para fixação do comando de Filtros\n",
    "\n",
    "data = [\n",
    "    ('CARMINA RABELO', 4, 2010), \n",
    "    ('HERONDINA PEREIRA', 6, 2009), \n",
    "    ('IRANI DOS SANTOS', 12, 2010), \n",
    "    ('JOAO BOSCO DA FONSECA', 3, 2009), \n",
    "    ('CARLITO SOUZA', 1, 2010), \n",
    "    ('WALTER DIAS', 9, 2009), \n",
    "    ('BRENO VENTUROSO', 1, 2009), \n",
    "    ('ADELINA TEIXEIRA', 5, 2009), \n",
    "    ('ELIO SILVA', 7, 2010), \n",
    "    ('DENIS FONSECA', 6, 2010)\n",
    "]\n",
    "colNames = ['nome', 'mes', 'ano']\n",
    "df = spark.createDataFrame(data, colNames)\n",
    "df.show(truncate=False)\n",
    "\n",
    "# seleção de apenas alunos nascidos no primeiro semestre de 2009.\n",
    "df\\\n",
    "    .select('*')\\\n",
    "    .filter(\"mes >= 1\" and \"mes <= 6\")\\\n",
    "    .filter(\"ano == 2009\")\\\n",
    "    .show(truncate=False)"
   ]
  },
  {
   "cell_type": "markdown",
   "metadata": {},
   "source": [
    "### 2.2.7 Método LIKE"
   ]
  },
  {
   "cell_type": "code",
   "execution_count": 178,
   "metadata": {},
   "outputs": [
    {
     "data": {
      "text/html": [
       "<div>\n",
       "<style scoped>\n",
       "    .dataframe tbody tr th:only-of-type {\n",
       "        vertical-align: middle;\n",
       "    }\n",
       "\n",
       "    .dataframe tbody tr th {\n",
       "        vertical-align: top;\n",
       "    }\n",
       "\n",
       "    .dataframe thead th {\n",
       "        text-align: right;\n",
       "    }\n",
       "</style>\n",
       "<table border=\"1\" class=\"dataframe\">\n",
       "  <thead>\n",
       "    <tr style=\"text-align: right;\">\n",
       "      <th></th>\n",
       "      <th>nome</th>\n",
       "    </tr>\n",
       "  </thead>\n",
       "  <tbody>\n",
       "    <tr>\n",
       "      <th>0</th>\n",
       "      <td>RESTAURANTE DO RUI</td>\n",
       "    </tr>\n",
       "    <tr>\n",
       "      <th>1</th>\n",
       "      <td>Juca restaurantes ltda</td>\n",
       "    </tr>\n",
       "    <tr>\n",
       "      <th>2</th>\n",
       "      <td>Joca Restaurante</td>\n",
       "    </tr>\n",
       "  </tbody>\n",
       "</table>\n",
       "</div>"
      ],
      "text/plain": [
       "                     nome\n",
       "0      RESTAURANTE DO RUI\n",
       "1  Juca restaurantes ltda\n",
       "2        Joca Restaurante"
      ]
     },
     "execution_count": 178,
     "metadata": {},
     "output_type": "execute_result"
    }
   ],
   "source": [
    "# Criando um dataframe\n",
    "\n",
    "df = spark.createDataFrame([('RESTAURANTE DO RUI',), ('Juca restaurantes ltda',), ('Joca Restaurante',)], ['nome'])\n",
    "df.toPandas()"
   ]
  },
  {
   "cell_type": "code",
   "execution_count": 179,
   "metadata": {},
   "outputs": [
    {
     "name": "stdout",
     "output_type": "stream",
     "text": [
      "+----------------+\n",
      "|nome            |\n",
      "+----------------+\n",
      "|Joca Restaurante|\n",
      "+----------------+\n",
      "\n"
     ]
    }
   ],
   "source": [
    "# Utilizando o comando Like para buscar no DataFrame qualquer linha que tenha no nome a palavra restaurante\n",
    "# Comando upper faz todos os caracteres de uma coluna ficar com letra maiuscula\n",
    "\n",
    "df\\\n",
    "    .where(f.upper(df['nome']).like('%RESTAURANTE'))\\\n",
    "    .show(truncate=False)\n",
    "\n",
    "# RESTAURANTE% = Começa com restaurante\n",
    "# %RESTAURANTE$ = tem restaurante no meio do nome\n",
    "# %RESTAURANTE = termina com restaurante"
   ]
  },
  {
   "cell_type": "code",
   "execution_count": 180,
   "metadata": {},
   "outputs": [
    {
     "name": "stdout",
     "output_type": "stream",
     "text": [
      "+-------------------------------------------------------+-----------------+----------------+-------------------------+\n",
      "|razao_social_nome_empresarial                          |natureza_juridica|porte_da_empresa|capital_social_da_empresa|\n",
      "+-------------------------------------------------------+-----------------+----------------+-------------------------+\n",
      "|RESTAURANTE IMIGRANTE PORTUGUES LTDA.                  |2062             |5               |0.0                      |\n",
      "|MORAIS & CARVALHO RESTAURANTE E PIZZARIA LTDA          |2062             |1               |0.0                      |\n",
      "|BAR E RESTAURANTE PAGANOTTO LTDA                       |2062             |5               |0.0                      |\n",
      "|RODRIGUES & RODRIGUES RESTAURANTE LTDA                 |2062             |5               |0.0                      |\n",
      "|TEXAS RANCH BAR RESTAURANTE PRODUCOES ARTISTICAS E CULT|2062             |1               |0.0                      |\n",
      "|V V SANTOS RESTAURANTE BAR E ATIV DESPORTIVAS LTDA     |2062             |1               |0.0                      |\n",
      "|BAR E RESTAURANTE CASA DA QUINTA LTDA                  |2062             |1               |5000.0                   |\n",
      "|DON MUGO RESTAURANTE LTDA                              |2062             |1               |10000.0                  |\n",
      "|MARIA ROZA DOS SANTOS- BAR E RESTAURANTE               |2135             |5               |0.0                      |\n",
      "|GERACAO DE OURO - BAR E RESTAURANTE LTDA               |2062             |5               |40000.0                  |\n",
      "|ELIANIA A. CUSTODIO RESTAURANTE                        |2135             |1               |0.0                      |\n",
      "|DOCE ESPIGA RESTAURANTE LTDA                           |2062             |1               |0.0                      |\n",
      "|R. A. D. ABRIL RESTAURANTE                             |2135             |1               |0.0                      |\n",
      "|BAR E RESTAURANTE IULIANCHESE LTDA.                    |2062             |1               |0.0                      |\n",
      "|R. DA S. ARAUJO - RESTAURANTE                          |2135             |5               |0.0                      |\n",
      "+-------------------------------------------------------+-----------------+----------------+-------------------------+\n",
      "only showing top 15 rows\n",
      "\n"
     ]
    }
   ],
   "source": [
    "# Buscando as empresas que tem a palavra RESTAURANTE na razão social\n",
    "\n",
    "empresas\\\n",
    "    .select('razao_social_nome_empresarial', 'natureza_juridica', 'porte_da_empresa', 'capital_social_da_empresa')\\\n",
    "    .filter(f.upper(empresas['razao_social_nome_empresarial']).like('%RESTAURANTE%'))\\\n",
    "    .show(15, truncate=False)"
   ]
  },
  {
   "cell_type": "markdown",
   "metadata": {},
   "source": [
    "### 2.2.8 Comando WHEN"
   ]
  },
  {
   "cell_type": "code",
   "execution_count": 181,
   "metadata": {},
   "outputs": [
    {
     "name": "stdout",
     "output_type": "stream",
     "text": [
      "+-------+----------+----+---------+\n",
      "|   nome|   materia|nota|   status|\n",
      "+-------+----------+----+---------+\n",
      "| CARLOS|MATEMÁTICA|   7| APROVADO|\n",
      "|    IVO|MATEMÁTICA|   9| APROVADO|\n",
      "| MÁRCIA|MATEMÁTICA|   8| APROVADO|\n",
      "|  LEILA|MATEMÁTICA|   9| APROVADO|\n",
      "|  BRENO|MATEMÁTICA|   7| APROVADO|\n",
      "|LETÍCIA|MATEMÁTICA|   8| APROVADO|\n",
      "| CARLOS|    FÍSICA|   2|REPROVADO|\n",
      "|    IVO|    FÍSICA|   8| APROVADO|\n",
      "| MÁRCIA|    FÍSICA|  10| APROVADO|\n",
      "|  LEILA|    FÍSICA|   9| APROVADO|\n",
      "|  BRENO|    FÍSICA|   1|REPROVADO|\n",
      "|LETÍCIA|    FÍSICA|   6|REPROVADO|\n",
      "| CARLOS|   QUÍMICA|  10| APROVADO|\n",
      "|    IVO|   QUÍMICA|   8| APROVADO|\n",
      "| MÁRCIA|   QUÍMICA|   1|REPROVADO|\n",
      "|  LEILA|   QUÍMICA|  10| APROVADO|\n",
      "|  BRENO|   QUÍMICA|   7| APROVADO|\n",
      "|LETÍCIA|   QUÍMICA|   9| APROVADO|\n",
      "+-------+----------+----+---------+\n",
      "\n"
     ]
    }
   ],
   "source": [
    "# Criando um DataFrame para utilizar o comando When\n",
    "\n",
    "data = [\n",
    "    ('CARLOS', 'MATEMÁTICA', 7), \n",
    "    ('IVO', 'MATEMÁTICA', 9), \n",
    "    ('MÁRCIA', 'MATEMÁTICA', 8), \n",
    "    ('LEILA', 'MATEMÁTICA', 9), \n",
    "    ('BRENO', 'MATEMÁTICA', 7), \n",
    "    ('LETÍCIA', 'MATEMÁTICA', 8), \n",
    "    ('CARLOS', 'FÍSICA', 2), \n",
    "    ('IVO', 'FÍSICA', 8), \n",
    "    ('MÁRCIA', 'FÍSICA', 10), \n",
    "    ('LEILA', 'FÍSICA', 9), \n",
    "    ('BRENO', 'FÍSICA', 1), \n",
    "    ('LETÍCIA', 'FÍSICA', 6), \n",
    "    ('CARLOS', 'QUÍMICA', 10), \n",
    "    ('IVO', 'QUÍMICA', 8), \n",
    "    ('MÁRCIA', 'QUÍMICA', 1), \n",
    "    ('LEILA', 'QUÍMICA', 10), \n",
    "    ('BRENO', 'QUÍMICA', 7), \n",
    "    ('LETÍCIA', 'QUÍMICA', 9)\n",
    "]\n",
    "colNames = ['nome', 'materia', 'nota']\n",
    "df = spark.createDataFrame(data, colNames)\n",
    "\n",
    "# Criar um indicador para os alunos APROVADOS ou REPROVADOS. Com a função when podemos criar esta nova coluna de forma bastante simples, exemplo:\n",
    "df = df.withColumn('status', f.when(df.nota >= 7, \"APROVADO\").otherwise(\"REPROVADO\"))\n",
    "df.show()"
   ]
  },
  {
   "cell_type": "markdown",
   "metadata": {},
   "source": [
    "# 2.3 Sumarizando dados\n",
    "\n",
    "[DataFrame.groupBy(*cols)](https://spark.apache.org/docs/3.1.2/api/python/reference/api/pyspark.sql.DataFrame.groupBy.html)\n",
    "\n",
    "[DataFrame.agg(*exprs)](https://spark.apache.org/docs/3.1.2/api/python/reference/api/pyspark.sql.DataFrame.agg.html)\n",
    "\n",
    "[DataFrame.summary(*statistics)](https://spark.apache.org/docs/3.1.2/api/python/reference/api/pyspark.sql.DataFrame.summary.html)\n",
    "\n",
    "> Funções:\n",
    "[approx_count_distinct](https://spark.apache.org/docs/3.1.2/api/python/reference/api/pyspark.sql.functions.approx_count_distinct.html) | \n",
    "[avg](https://spark.apache.org/docs/3.1.2/api/python/reference/api/pyspark.sql.functions.avg.html) | \n",
    "[collect_list](https://spark.apache.org/docs/3.1.2/api/python/reference/api/pyspark.sql.functions.collect_list.html) | \n",
    "[collect_set](https://spark.apache.org/docs/3.1.2/api/python/reference/api/pyspark.sql.functions.collect_set.html) | \n",
    "[countDistinct](https://spark.apache.org/docs/3.1.2/api/python/reference/api/pyspark.sql.functions.countDistinct.html) | \n",
    "[count](https://spark.apache.org/docs/3.1.2/api/python/reference/api/pyspark.sql.functions.count.html) | \n",
    "[grouping](https://spark.apache.org/docs/3.1.2/api/python/reference/api/pyspark.sql.functions.grouping.html) | \n",
    "[first](https://spark.apache.org/docs/3.1.2/api/python/reference/api/pyspark.sql.functions.first.html) | \n",
    "[last](https://spark.apache.org/docs/3.1.2/api/python/reference/api/pyspark.sql.functions.last.html) | \n",
    "[kurtosis](https://spark.apache.org/docs/3.1.2/api/python/reference/api/pyspark.sql.functions.kurtosis.html) | \n",
    "[max](https://spark.apache.org/docs/3.1.2/api/python/reference/api/pyspark.sql.functions.max.html) | \n",
    "[min](https://spark.apache.org/docs/3.1.2/api/python/reference/api/pyspark.sql.functions.min.html) | \n",
    "[mean](https://spark.apache.org/docs/3.1.2/api/python/reference/api/pyspark.sql.functions.mean.html) | \n",
    "[skewness](https://spark.apache.org/docs/3.1.2/api/python/reference/api/pyspark.sql.functions.skewness.html) | \n",
    "[stddev ou stddev_samp](https://spark.apache.org/docs/3.1.2/api/python/reference/api/pyspark.sql.functions.stddev.html) | \n",
    "[stddev_pop](https://spark.apache.org/docs/3.1.2/api/python/reference/api/pyspark.sql.functions.stddev_pop.html) | \n",
    "[sum](https://spark.apache.org/docs/3.1.2/api/python/reference/api/pyspark.sql.functions.sum.html) | \n",
    "[sumDistinct](https://spark.apache.org/docs/3.1.2/api/python/reference/api/pyspark.sql.functions.sumDistinct.html) | \n",
    "[variance ou var_samp](https://spark.apache.org/docs/3.1.2/api/python/reference/api/pyspark.sql.functions.variance.html) | \n",
    "[var_pop](https://spark.apache.org/docs/3.1.2/api/python/reference/api/pyspark.sql.functions.var_pop.html)"
   ]
  },
  {
   "cell_type": "markdown",
   "metadata": {},
   "source": [
    "### 2.3.1 Agrupamento e agragações\n",
    "### 3.3.1.1 Contagem"
   ]
  },
  {
   "cell_type": "code",
   "execution_count": 182,
   "metadata": {},
   "outputs": [
    {
     "name": "stderr",
     "output_type": "stream",
     "text": [
      "[Stage 78:==================================>                      (6 + 4) / 10]\r"
     ]
    },
    {
     "name": "stdout",
     "output_type": "stream",
     "text": [
      "+--------------+------+\n",
      "|ano_de_entrada|count |\n",
      "+--------------+------+\n",
      "|2010          |79337 |\n",
      "|2011          |83906 |\n",
      "|2012          |80101 |\n",
      "|2013          |83919 |\n",
      "|2014          |80590 |\n",
      "|2015          |80906 |\n",
      "|2016          |81587 |\n",
      "|2017          |90221 |\n",
      "|2018          |99935 |\n",
      "|2019          |118248|\n",
      "|2020          |125927|\n",
      "|2021          |56316 |\n",
      "+--------------+------+\n",
      "\n"
     ]
    },
    {
     "name": "stderr",
     "output_type": "stream",
     "text": [
      "                                                                                \r"
     ]
    }
   ],
   "source": [
    "# Metodo para agrupamento utilizando o comando groupBy\n",
    "# Realizando a contagem de entrada de sociedade por ano, superior a 2010\n",
    "\n",
    "socios\\\n",
    "    .select(f.year('data_de_entrada_sociedade').alias('ano_de_entrada'))\\\n",
    "    .where('ano_de_entrada >= 2010')\\\n",
    "    .groupBy('ano_de_entrada')\\\n",
    "    .count()\\\n",
    "    .orderBy('ano_de_entrada')\\\n",
    "    .show(truncate=False)"
   ]
  },
  {
   "cell_type": "markdown",
   "metadata": {},
   "source": [
    "### 3.3.1.2 Contagem e média"
   ]
  },
  {
   "cell_type": "code",
   "execution_count": 183,
   "metadata": {},
   "outputs": [
    {
     "name": "stderr",
     "output_type": "stream",
     "text": [
      "[Stage 81:==================================>                      (6 + 4) / 10]\r"
     ]
    },
    {
     "name": "stdout",
     "output_type": "stream",
     "text": [
      "+----------------+--------------------+----------+\n",
      "|porte_da_empresa|capital_social_medio|frequencia|\n",
      "+----------------+--------------------+----------+\n",
      "|NULL            |8.35421888053467    |5985      |\n",
      "|1               |339994.53313507047  |3129043   |\n",
      "|3               |2601001.7677092687  |115151    |\n",
      "|5               |708660.4208249793   |1335500   |\n",
      "+----------------+--------------------+----------+\n",
      "\n"
     ]
    },
    {
     "name": "stderr",
     "output_type": "stream",
     "text": [
      "                                                                                \r"
     ]
    }
   ],
   "source": [
    "# Utilizando o comando AVG para agregar mais uma estatistica descritiva\n",
    "\n",
    "empresas\\\n",
    "    .select(\"cnpj_basico\", \"porte_da_empresa\", \"capital_social_da_empresa\")\\\n",
    "    .groupBy('porte_da_empresa')\\\n",
    "    .agg(\n",
    "        f.avg('capital_social_da_empresa').alias('capital_social_medio'),\n",
    "        f.count('cnpj_basico').alias('frequencia')\\\n",
    "    )\\\n",
    "    .orderBy('porte_da_empresa', ascending=True)\\\n",
    "    .show(truncate=False)"
   ]
  },
  {
   "cell_type": "markdown",
   "metadata": {},
   "source": [
    "### 3.3.1.3 Estatística descritivas"
   ]
  },
  {
   "cell_type": "code",
   "execution_count": 184,
   "metadata": {},
   "outputs": [
    {
     "name": "stderr",
     "output_type": "stream",
     "text": [
      "[Stage 84:=======================================>                 (7 + 3) / 10]\r"
     ]
    },
    {
     "name": "stdout",
     "output_type": "stream",
     "text": [
      "+-------+-------------------------+\n",
      "|summary|capital_social_da_empresa|\n",
      "+-------+-------------------------+\n",
      "|  count|                  4585679|\n",
      "|   mean|        503694.5478542674|\n",
      "| stddev|     2.1118691490537727E8|\n",
      "|    min|                      0.0|\n",
      "|    25%|                      0.0|\n",
      "|    50%|                   1000.0|\n",
      "|    75%|                   7000.0|\n",
      "|    max|         3.22014670262E11|\n",
      "+-------+-------------------------+\n",
      "\n"
     ]
    },
    {
     "name": "stderr",
     "output_type": "stream",
     "text": [
      "                                                                                \r"
     ]
    }
   ],
   "source": [
    "# Comando summary para trazer mais estastiticas descritivas\n",
    "\n",
    "empresas\\\n",
    "    .select('capital_social_da_empresa')\\\n",
    "    .summary()\\\n",
    "    .show()\n",
    "\n",
    "# Se eu quiser retornar apenas algumas estastiticas apenas como média e contagem, eu poderia colocar dentro do summary o nome da estastiticas, exemplo:\n",
    "\n",
    "# summary(\"mean\", \"count\")"
   ]
  },
  {
   "cell_type": "markdown",
   "metadata": {},
   "source": [
    "# 2.3.2 joins\n",
    "### 2.3.2.1 Inner Join"
   ]
  },
  {
   "cell_type": "code",
   "execution_count": 185,
   "metadata": {},
   "outputs": [],
   "source": [
    "# Criando dois DataFrames# para ser o exemplo\n",
    "\n",
    "produtos = spark.createDataFrame(\n",
    "    [\n",
    "        ('1', 'Bebidas', 'Água mineral'), \n",
    "        ('2', 'Limpeza', 'Sabão em pó'), \n",
    "        ('3', 'Frios', 'Queijo'), \n",
    "        ('4', 'Bebidas', 'Refrigerante'),\n",
    "        ('5', 'Pet', 'Ração para cães')\n",
    "    ],\n",
    "    ['id', 'cat', 'prod']\n",
    ")\n",
    "\n",
    "impostos = spark.createDataFrame(\n",
    "    [\n",
    "        ('Bebidas', 0.15), \n",
    "        ('Limpeza', 0.05),\n",
    "        ('Frios', 0.065),\n",
    "        ('Carnes', 0.08)\n",
    "    ],\n",
    "    ['cat', 'tax']\n",
    ")"
   ]
  },
  {
   "cell_type": "code",
   "execution_count": 186,
   "metadata": {},
   "outputs": [
    {
     "data": {
      "text/html": [
       "<div>\n",
       "<style scoped>\n",
       "    .dataframe tbody tr th:only-of-type {\n",
       "        vertical-align: middle;\n",
       "    }\n",
       "\n",
       "    .dataframe tbody tr th {\n",
       "        vertical-align: top;\n",
       "    }\n",
       "\n",
       "    .dataframe thead th {\n",
       "        text-align: right;\n",
       "    }\n",
       "</style>\n",
       "<table border=\"1\" class=\"dataframe\">\n",
       "  <thead>\n",
       "    <tr style=\"text-align: right;\">\n",
       "      <th></th>\n",
       "      <th>id</th>\n",
       "      <th>cat</th>\n",
       "      <th>prod</th>\n",
       "    </tr>\n",
       "  </thead>\n",
       "  <tbody>\n",
       "    <tr>\n",
       "      <th>0</th>\n",
       "      <td>1</td>\n",
       "      <td>Bebidas</td>\n",
       "      <td>Água mineral</td>\n",
       "    </tr>\n",
       "    <tr>\n",
       "      <th>1</th>\n",
       "      <td>2</td>\n",
       "      <td>Limpeza</td>\n",
       "      <td>Sabão em pó</td>\n",
       "    </tr>\n",
       "    <tr>\n",
       "      <th>2</th>\n",
       "      <td>3</td>\n",
       "      <td>Frios</td>\n",
       "      <td>Queijo</td>\n",
       "    </tr>\n",
       "    <tr>\n",
       "      <th>3</th>\n",
       "      <td>4</td>\n",
       "      <td>Bebidas</td>\n",
       "      <td>Refrigerante</td>\n",
       "    </tr>\n",
       "    <tr>\n",
       "      <th>4</th>\n",
       "      <td>5</td>\n",
       "      <td>Pet</td>\n",
       "      <td>Ração para cães</td>\n",
       "    </tr>\n",
       "  </tbody>\n",
       "</table>\n",
       "</div>"
      ],
      "text/plain": [
       "  id      cat             prod\n",
       "0  1  Bebidas     Água mineral\n",
       "1  2  Limpeza      Sabão em pó\n",
       "2  3    Frios           Queijo\n",
       "3  4  Bebidas     Refrigerante\n",
       "4  5      Pet  Ração para cães"
      ]
     },
     "execution_count": 186,
     "metadata": {},
     "output_type": "execute_result"
    }
   ],
   "source": [
    "# Analisando o DataFrame\n",
    "\n",
    "produtos.toPandas()"
   ]
  },
  {
   "cell_type": "code",
   "execution_count": 187,
   "metadata": {},
   "outputs": [
    {
     "data": {
      "text/html": [
       "<div>\n",
       "<style scoped>\n",
       "    .dataframe tbody tr th:only-of-type {\n",
       "        vertical-align: middle;\n",
       "    }\n",
       "\n",
       "    .dataframe tbody tr th {\n",
       "        vertical-align: top;\n",
       "    }\n",
       "\n",
       "    .dataframe thead th {\n",
       "        text-align: right;\n",
       "    }\n",
       "</style>\n",
       "<table border=\"1\" class=\"dataframe\">\n",
       "  <thead>\n",
       "    <tr style=\"text-align: right;\">\n",
       "      <th></th>\n",
       "      <th>cat</th>\n",
       "      <th>tax</th>\n",
       "    </tr>\n",
       "  </thead>\n",
       "  <tbody>\n",
       "    <tr>\n",
       "      <th>0</th>\n",
       "      <td>Bebidas</td>\n",
       "      <td>0.150</td>\n",
       "    </tr>\n",
       "    <tr>\n",
       "      <th>1</th>\n",
       "      <td>Limpeza</td>\n",
       "      <td>0.050</td>\n",
       "    </tr>\n",
       "    <tr>\n",
       "      <th>2</th>\n",
       "      <td>Frios</td>\n",
       "      <td>0.065</td>\n",
       "    </tr>\n",
       "    <tr>\n",
       "      <th>3</th>\n",
       "      <td>Carnes</td>\n",
       "      <td>0.080</td>\n",
       "    </tr>\n",
       "  </tbody>\n",
       "</table>\n",
       "</div>"
      ],
      "text/plain": [
       "       cat    tax\n",
       "0  Bebidas  0.150\n",
       "1  Limpeza  0.050\n",
       "2    Frios  0.065\n",
       "3   Carnes  0.080"
      ]
     },
     "execution_count": 187,
     "metadata": {},
     "output_type": "execute_result"
    }
   ],
   "source": [
    "# Analisando o DataFrame\n",
    "\n",
    "impostos.toPandas()"
   ]
  },
  {
   "cell_type": "code",
   "execution_count": 188,
   "metadata": {},
   "outputs": [
    {
     "name": "stdout",
     "output_type": "stream",
     "text": [
      "+-------+---+------------+-----+\n",
      "|cat    |id |prod        |tax  |\n",
      "+-------+---+------------+-----+\n",
      "|Bebidas|1  |Água mineral|0.15 |\n",
      "|Limpeza|2  |Sabão em pó |0.05 |\n",
      "|Frios  |3  |Queijo      |0.065|\n",
      "|Bebidas|4  |Refrigerante|0.15 |\n",
      "+-------+---+------------+-----+\n",
      "\n"
     ]
    },
    {
     "name": "stderr",
     "output_type": "stream",
     "text": [
      "                                                                                \r"
     ]
    }
   ],
   "source": [
    "# Realizando os joins\n",
    "\n",
    "produtos.join(impostos, 'cat', how='inner')\\\n",
    "    .sort('id')\\\n",
    "    .show(truncate=False)"
   ]
  },
  {
   "cell_type": "markdown",
   "metadata": {},
   "source": [
    "### 2.3.2.2 Left Join"
   ]
  },
  {
   "cell_type": "code",
   "execution_count": 189,
   "metadata": {},
   "outputs": [
    {
     "name": "stdout",
     "output_type": "stream",
     "text": [
      "+-------+---+---------------+-----+\n",
      "|cat    |id |prod           |tax  |\n",
      "+-------+---+---------------+-----+\n",
      "|Bebidas|1  |Água mineral   |0.15 |\n",
      "|Limpeza|2  |Sabão em pó    |0.05 |\n",
      "|Frios  |3  |Queijo         |0.065|\n",
      "|Bebidas|4  |Refrigerante   |0.15 |\n",
      "|Pet    |5  |Ração para cães|NULL |\n",
      "+-------+---+---------------+-----+\n",
      "\n"
     ]
    }
   ],
   "source": [
    "# Realizando os Left join\n",
    "\n",
    "produtos.join(impostos, 'cat', how='left')\\\n",
    "    .sort('id')\\\n",
    "    .show(truncate=False)"
   ]
  },
  {
   "cell_type": "markdown",
   "metadata": {},
   "source": [
    "### 2.3.2.3 Right Join"
   ]
  },
  {
   "cell_type": "code",
   "execution_count": 190,
   "metadata": {},
   "outputs": [
    {
     "name": "stdout",
     "output_type": "stream",
     "text": [
      "+-------+----+------------+-----+\n",
      "|cat    |id  |prod        |tax  |\n",
      "+-------+----+------------+-----+\n",
      "|Carnes |NULL|NULL        |0.08 |\n",
      "|Bebidas|1   |Água mineral|0.15 |\n",
      "|Limpeza|2   |Sabão em pó |0.05 |\n",
      "|Frios  |3   |Queijo      |0.065|\n",
      "|Bebidas|4   |Refrigerante|0.15 |\n",
      "+-------+----+------------+-----+\n",
      "\n"
     ]
    }
   ],
   "source": [
    "# Realizando os Right join\n",
    "\n",
    "produtos.join(impostos, 'cat', how='right')\\\n",
    "    .sort('id')\\\n",
    "    .show(truncate=False)"
   ]
  },
  {
   "cell_type": "markdown",
   "metadata": {},
   "source": [
    "### 2.3.2.4 Outer Join"
   ]
  },
  {
   "cell_type": "code",
   "execution_count": 191,
   "metadata": {},
   "outputs": [
    {
     "name": "stdout",
     "output_type": "stream",
     "text": [
      "+-------+----+---------------+-----+\n",
      "|cat    |id  |prod           |tax  |\n",
      "+-------+----+---------------+-----+\n",
      "|Carnes |NULL|NULL           |0.08 |\n",
      "|Bebidas|1   |Água mineral   |0.15 |\n",
      "|Limpeza|2   |Sabão em pó    |0.05 |\n",
      "|Frios  |3   |Queijo         |0.065|\n",
      "|Bebidas|4   |Refrigerante   |0.15 |\n",
      "|Pet    |5   |Ração para cães|NULL |\n",
      "+-------+----+---------------+-----+\n",
      "\n"
     ]
    }
   ],
   "source": [
    "# Realizando os outer join\n",
    "\n",
    "produtos.join(impostos, 'cat', how='outer')\\\n",
    "    .sort('id')\\\n",
    "    .show(truncate=False)"
   ]
  },
  {
   "cell_type": "markdown",
   "metadata": {},
   "source": [
    "### 2.3.2.5 Join com nossos dados"
   ]
  },
  {
   "cell_type": "code",
   "execution_count": 192,
   "metadata": {},
   "outputs": [],
   "source": [
    "# Realizando os joins com nossos dados\n",
    "\n",
    "empresas_join = estabelecimentos.join(empresas, 'cnpj_basico', how='inner')"
   ]
  },
  {
   "cell_type": "code",
   "execution_count": 193,
   "metadata": {},
   "outputs": [
    {
     "name": "stdout",
     "output_type": "stream",
     "text": [
      "root\n",
      " |-- cnpj_basico: integer (nullable = true)\n",
      " |-- cnpj_ordem: integer (nullable = true)\n",
      " |-- cnpj_dv: integer (nullable = true)\n",
      " |-- identificador_matriz_filial: integer (nullable = true)\n",
      " |-- nome_fantasia: string (nullable = true)\n",
      " |-- situacao_cadastral: integer (nullable = true)\n",
      " |-- data_situacao_cadastral: date (nullable = true)\n",
      " |-- motivo_situacao_cadastral: integer (nullable = true)\n",
      " |-- nome_da_cidade_no_exterior: string (nullable = true)\n",
      " |-- pais: integer (nullable = true)\n",
      " |-- data_de_inicio_atividade: date (nullable = true)\n",
      " |-- cnae_fiscal_principal: integer (nullable = true)\n",
      " |-- cnae_fiscal_secundaria: string (nullable = true)\n",
      " |-- tipo_de_logradouro: string (nullable = true)\n",
      " |-- logradouro: string (nullable = true)\n",
      " |-- numero: string (nullable = true)\n",
      " |-- complemento: string (nullable = true)\n",
      " |-- bairro: string (nullable = true)\n",
      " |-- cep: integer (nullable = true)\n",
      " |-- uf: string (nullable = true)\n",
      " |-- municipio: integer (nullable = true)\n",
      " |-- ddd_1: string (nullable = true)\n",
      " |-- telefone_1: string (nullable = true)\n",
      " |-- ddd_2: string (nullable = true)\n",
      " |-- telefone_2: string (nullable = true)\n",
      " |-- ddd_do_fax: integer (nullable = true)\n",
      " |-- fax: string (nullable = true)\n",
      " |-- correio_eletronico: string (nullable = true)\n",
      " |-- situacao_especial: string (nullable = true)\n",
      " |-- data_da_situacao_especial: date (nullable = true)\n",
      " |-- razao_social_nome_empresarial: string (nullable = true)\n",
      " |-- natureza_juridica: integer (nullable = true)\n",
      " |-- qualificacao_do_responsavel: integer (nullable = true)\n",
      " |-- capital_social_da_empresa: double (nullable = true)\n",
      " |-- porte_da_empresa: integer (nullable = true)\n",
      " |-- ente_federativo_responsavel: string (nullable = true)\n",
      "\n"
     ]
    }
   ],
   "source": [
    "# Verificando que as informações de empresas e estabelecimentos estão unidas, aquelas que tem match, ou seja que tem os mesmo cnpj basico\n",
    "\n",
    "empresas_join.printSchema()"
   ]
  },
  {
   "cell_type": "code",
   "execution_count": 194,
   "metadata": {},
   "outputs": [],
   "source": [
    "freq = empresas_join\\\n",
    "    .select('cnpj_basico',\n",
    "            f.year('data_de_inicio_atividade').alias('data_de_inicio')\n",
    "    )\\\n",
    "    .where('data_de_inicio >= 2010')\\\n",
    "    .groupBy('data_de_inicio')\\\n",
    "    .agg(f.count('cnpj_basico').alias(\"frequencia\"))\\\n",
    "    .orderBy('data_de_inicio', ascending=True)"
   ]
  },
  {
   "cell_type": "code",
   "execution_count": 195,
   "metadata": {},
   "outputs": [
    {
     "name": "stderr",
     "output_type": "stream",
     "text": [
      "24/07/15 21:46:23 WARN RowBasedKeyValueBatch: Calling spill() on RowBasedKeyValueBatch. Will not spill but return 0.\n",
      "24/07/15 21:46:23 WARN RowBasedKeyValueBatch: Calling spill() on RowBasedKeyValueBatch. Will not spill but return 0.\n",
      "24/07/15 21:46:23 WARN RowBasedKeyValueBatch: Calling spill() on RowBasedKeyValueBatch. Will not spill but return 0.\n",
      "24/07/15 21:46:23 WARN RowBasedKeyValueBatch: Calling spill() on RowBasedKeyValueBatch. Will not spill but return 0.\n",
      "24/07/15 21:46:23 WARN RowBasedKeyValueBatch: Calling spill() on RowBasedKeyValueBatch. Will not spill but return 0.\n",
      "24/07/15 21:46:23 WARN RowBasedKeyValueBatch: Calling spill() on RowBasedKeyValueBatch. Will not spill but return 0.\n",
      "24/07/15 21:46:23 WARN RowBasedKeyValueBatch: Calling spill() on RowBasedKeyValueBatch. Will not spill but return 0.\n",
      "24/07/15 21:46:23 WARN RowBasedKeyValueBatch: Calling spill() on RowBasedKeyValueBatch. Will not spill but return 0.\n",
      "24/07/15 21:46:23 WARN RowBasedKeyValueBatch: Calling spill() on RowBasedKeyValueBatch. Will not spill but return 0.\n",
      "24/07/15 21:46:23 WARN RowBasedKeyValueBatch: Calling spill() on RowBasedKeyValueBatch. Will not spill but return 0.\n",
      "24/07/15 21:46:24 WARN RowBasedKeyValueBatch: Calling spill() on RowBasedKeyValueBatch. Will not spill but return 0.\n",
      "24/07/15 21:46:24 WARN RowBasedKeyValueBatch: Calling spill() on RowBasedKeyValueBatch. Will not spill but return 0.\n",
      "[Stage 114:===================>                                     (2 + 4) / 6]\r"
     ]
    },
    {
     "name": "stdout",
     "output_type": "stream",
     "text": [
      "+--------------+----------+\n",
      "|data_de_inicio|frequencia|\n",
      "+--------------+----------+\n",
      "|          2010|    154159|\n",
      "|          2011|    172677|\n",
      "|          2012|    232480|\n",
      "|          2013|    198424|\n",
      "|          2014|    202276|\n",
      "|          2015|    212523|\n",
      "|          2016|    265417|\n",
      "|          2017|    237292|\n",
      "|          2018|    275435|\n",
      "|          2019|    325922|\n",
      "|          2020|    400654|\n",
      "|          2021|    153275|\n",
      "+--------------+----------+\n",
      "\n"
     ]
    },
    {
     "name": "stderr",
     "output_type": "stream",
     "text": [
      "                                                                                \r"
     ]
    }
   ],
   "source": [
    "freq.show()"
   ]
  },
  {
   "cell_type": "code",
   "execution_count": 196,
   "metadata": {},
   "outputs": [
    {
     "name": "stderr",
     "output_type": "stream",
     "text": [
      "24/07/15 21:46:33 WARN RowBasedKeyValueBatch: Calling spill() on RowBasedKeyValueBatch. Will not spill but return 0.\n",
      "24/07/15 21:46:33 WARN RowBasedKeyValueBatch: Calling spill() on RowBasedKeyValueBatch. Will not spill but return 0.\n",
      "24/07/15 21:46:33 WARN RowBasedKeyValueBatch: Calling spill() on RowBasedKeyValueBatch. Will not spill but return 0.\n",
      "24/07/15 21:46:33 WARN RowBasedKeyValueBatch: Calling spill() on RowBasedKeyValueBatch. Will not spill but return 0.\n",
      "24/07/15 21:46:33 WARN RowBasedKeyValueBatch: Calling spill() on RowBasedKeyValueBatch. Will not spill but return 0.\n",
      "24/07/15 21:46:33 WARN RowBasedKeyValueBatch: Calling spill() on RowBasedKeyValueBatch. Will not spill but return 0.\n",
      "24/07/15 21:46:33 WARN RowBasedKeyValueBatch: Calling spill() on RowBasedKeyValueBatch. Will not spill but return 0.\n",
      "24/07/15 21:46:33 WARN RowBasedKeyValueBatch: Calling spill() on RowBasedKeyValueBatch. Will not spill but return 0.\n",
      "24/07/15 21:46:33 WARN RowBasedKeyValueBatch: Calling spill() on RowBasedKeyValueBatch. Will not spill but return 0.\n",
      "24/07/15 21:46:33 WARN RowBasedKeyValueBatch: Calling spill() on RowBasedKeyValueBatch. Will not spill but return 0.\n",
      "24/07/15 21:46:33 WARN RowBasedKeyValueBatch: Calling spill() on RowBasedKeyValueBatch. Will not spill but return 0.\n",
      "24/07/15 21:46:35 WARN RowBasedKeyValueBatch: Calling spill() on RowBasedKeyValueBatch. Will not spill but return 0.\n",
      "                                                                                \r"
     ]
    },
    {
     "name": "stdout",
     "output_type": "stream",
     "text": [
      "+--------------+----------+\n",
      "|data_de_inicio|frequencia|\n",
      "+--------------+----------+\n",
      "|          2010|    154159|\n",
      "|          2011|    172677|\n",
      "|          2012|    232480|\n",
      "|          2013|    198424|\n",
      "|          2014|    202276|\n",
      "|          2015|    212523|\n",
      "|          2016|    265417|\n",
      "|          2017|    237292|\n",
      "|          2018|    275435|\n",
      "|          2019|    325922|\n",
      "|          2020|    400654|\n",
      "|          2021|    153275|\n",
      "|         total|   2830534|\n",
      "+--------------+----------+\n",
      "\n"
     ]
    }
   ],
   "source": [
    "# Criar um total\n",
    "\n",
    "freq.union(\n",
    "    freq.select(\n",
    "        f.lit('total').alias('data_de_inicio'),\n",
    "        f.sum(freq.frequencia).alias('frequencia')\n",
    "    )\n",
    ").show()"
   ]
  },
  {
   "cell_type": "markdown",
   "metadata": {},
   "source": [
    "# 2.4 Utilizar SQL no SparkSQL\n",
    "\n",
    "### Para saber mais sobre performance: [Artigo - Spark RDDs vs DataFrames vs SparkSQL](https://community.cloudera.com/t5/Community-Articles/Spark-RDDs-vs-DataFrames-vs-SparkSQL/ta-p/246547)"
   ]
  },
  {
   "cell_type": "code",
   "execution_count": 197,
   "metadata": {},
   "outputs": [
    {
     "name": "stdout",
     "output_type": "stream",
     "text": [
      "+-----------+-----------------------------+-----------------+---------------------------+-------------------------+----------------+---------------------------+\n",
      "|cnpj_basico|razao_social_nome_empresarial|natureza_juridica|qualificacao_do_responsavel|capital_social_da_empresa|porte_da_empresa|ente_federativo_responsavel|\n",
      "+-----------+-----------------------------+-----------------+---------------------------+-------------------------+----------------+---------------------------+\n",
      "|        306|         FRANCAMAR REFRIGE...|             2240|                         49|                      0.0|               1|                       NULL|\n",
      "|       1355|         BRASILEIRO & OLIV...|             2062|                         49|                      0.0|               5|                       NULL|\n",
      "|       4820|         REGISTRO DE IMOVE...|             3034|                         32|                      0.0|               5|                       NULL|\n",
      "|       5347|         ROSELY APARECIDA ...|             2135|                         50|                      0.0|               5|                       NULL|\n",
      "|       6846|         BADU E FILHOS TEC...|             2062|                         49|                   4000.0|               1|                       NULL|\n",
      "+-----------+-----------------------------+-----------------+---------------------------+-------------------------+----------------+---------------------------+\n",
      "only showing top 5 rows\n",
      "\n"
     ]
    }
   ],
   "source": [
    "# Exemplo 1 - trazer a tabela empresas\n",
    "\n",
    "# Sempre que usar o spark SQL é necessario criar uma VIEW, spark.sql trabalha diretamente com SQL, \n",
    "# e o SQL precisa de uma tabela ou view conhecida para consultar.\n",
    "\n",
    "# Criando a VIEW empresas_view\n",
    "empresas.createOrReplaceTempView(\"empresas_view\")\n",
    "\n",
    "# Comando SQL \n",
    "spark.sql(\n",
    "\n",
    "    \"SELECT * FROM empresas_view\"\n",
    "\n",
    ").show(5)"
   ]
  },
  {
   "cell_type": "code",
   "execution_count": 198,
   "metadata": {},
   "outputs": [
    {
     "name": "stdout",
     "output_type": "stream",
     "text": [
      "+-----------+-----------------------------+-----------------+---------------------------+-------------------------+----------------+---------------------------+\n",
      "|cnpj_basico|razao_social_nome_empresarial|natureza_juridica|qualificacao_do_responsavel|capital_social_da_empresa|porte_da_empresa|ente_federativo_responsavel|\n",
      "+-----------+-----------------------------+-----------------+---------------------------+-------------------------+----------------+---------------------------+\n",
      "|   17350147|         ERIK MARCELO DOS ...|             2135|                         50|                     50.0|               1|                       NULL|\n",
      "|   17833214|         ALEXANDRE MACHADO...|             2135|                         50|                     50.0|               1|                       NULL|\n",
      "|   20860830|         YASMIN MOURA DA F...|             2135|                         50|                     50.0|               1|                       NULL|\n",
      "|   22242856|         JOAO CESAR MESSIA...|             2135|                         50|                     50.0|               1|                       NULL|\n",
      "|   23238540|         EVERTON ROBERTO D...|             2135|                         50|                     50.0|               1|                       NULL|\n",
      "+-----------+-----------------------------+-----------------+---------------------------+-------------------------+----------------+---------------------------+\n",
      "only showing top 5 rows\n",
      "\n"
     ]
    }
   ],
   "source": [
    "# Exemplo 2 - filtrar empresas com capital social IGUAL a 50\n",
    "\n",
    "# Comando SQL\n",
    "spark.sql(\"\"\"\n",
    "        SELECT *\n",
    "            FROM empresas_view\n",
    "            WHERE capital_social_da_empresa = 50\n",
    "\"\"\"\n",
    ").show(5)"
   ]
  },
  {
   "cell_type": "code",
   "execution_count": 199,
   "metadata": {},
   "outputs": [
    {
     "name": "stderr",
     "output_type": "stream",
     "text": [
      "[Stage 150:=================================>                      (6 + 4) / 10]\r"
     ]
    },
    {
     "name": "stdout",
     "output_type": "stream",
     "text": [
      "+----------------+------------------+\n",
      "|porte_da_empresa|             Media|\n",
      "+----------------+------------------+\n",
      "|            NULL|  8.35421888053467|\n",
      "|               1|339994.53313507047|\n",
      "|               3|2601001.7677092687|\n",
      "|               5| 708660.4208249793|\n",
      "+----------------+------------------+\n",
      "\n"
     ]
    },
    {
     "name": "stderr",
     "output_type": "stream",
     "text": [
      "                                                                                \r"
     ]
    }
   ],
   "source": [
    "# Exemplo 3 - calcular a média do capital social por porte da empresa\n",
    "\n",
    "# Comando SQL\n",
    "spark.sql(\"\"\"\n",
    "    SELECT porte_da_empresa, MEAN(capital_social_da_empresa) AS Media\n",
    "          FROM empresas_view\n",
    "          Group by porte_da_empresa       \n",
    "\"\"\").show(5)"
   ]
  },
  {
   "cell_type": "code",
   "execution_count": 200,
   "metadata": {},
   "outputs": [
    {
     "name": "stderr",
     "output_type": "stream",
     "text": [
      "24/07/15 21:46:47 WARN RowBasedKeyValueBatch: Calling spill() on RowBasedKeyValueBatch. Will not spill but return 0.\n",
      "24/07/15 21:46:47 WARN RowBasedKeyValueBatch: Calling spill() on RowBasedKeyValueBatch. Will not spill but return 0.\n",
      "24/07/15 21:46:47 WARN RowBasedKeyValueBatch: Calling spill() on RowBasedKeyValueBatch. Will not spill but return 0.\n",
      "24/07/15 21:46:47 WARN RowBasedKeyValueBatch: Calling spill() on RowBasedKeyValueBatch. Will not spill but return 0.\n",
      "24/07/15 21:46:47 WARN RowBasedKeyValueBatch: Calling spill() on RowBasedKeyValueBatch. Will not spill but return 0.\n",
      "24/07/15 21:46:47 WARN RowBasedKeyValueBatch: Calling spill() on RowBasedKeyValueBatch. Will not spill but return 0.\n",
      "24/07/15 21:46:48 WARN RowBasedKeyValueBatch: Calling spill() on RowBasedKeyValueBatch. Will not spill but return 0.\n",
      "24/07/15 21:46:48 WARN RowBasedKeyValueBatch: Calling spill() on RowBasedKeyValueBatch. Will not spill but return 0.\n",
      "24/07/15 21:46:48 WARN RowBasedKeyValueBatch: Calling spill() on RowBasedKeyValueBatch. Will not spill but return 0.\n",
      "24/07/15 21:46:48 WARN RowBasedKeyValueBatch: Calling spill() on RowBasedKeyValueBatch. Will not spill but return 0.\n",
      "24/07/15 21:46:48 WARN RowBasedKeyValueBatch: Calling spill() on RowBasedKeyValueBatch. Will not spill but return 0.\n",
      "24/07/15 21:46:48 WARN RowBasedKeyValueBatch: Calling spill() on RowBasedKeyValueBatch. Will not spill but return 0.\n"
     ]
    },
    {
     "name": "stdout",
     "output_type": "stream",
     "text": [
      "+----------+--------------+\n",
      "|frequencia|data_de_inicio|\n",
      "+----------+--------------+\n",
      "|    154159|          2010|\n",
      "|    172677|          2011|\n",
      "|    232480|          2012|\n",
      "|    198424|          2013|\n",
      "|    202276|          2014|\n",
      "|    212523|          2015|\n",
      "|    265417|          2016|\n",
      "|    237292|          2017|\n",
      "|    275435|          2018|\n",
      "|    325922|          2019|\n",
      "|    400654|          2020|\n",
      "|    153275|          2021|\n",
      "+----------+--------------+\n",
      "\n"
     ]
    },
    {
     "name": "stderr",
     "output_type": "stream",
     "text": [
      "                                                                                \r"
     ]
    }
   ],
   "source": [
    "# Exemplo 4 - Calcular a frequencia de CNPJ abertos por ano\n",
    "\n",
    "# Criando a VIEW empresas_Join_View\n",
    "empresas_join.createOrReplaceTempView('empresas_Join_View')\n",
    "\n",
    "# Comando SQL \n",
    "freq = spark.sql(\"\"\"\n",
    "    SELECT COUNT(cnpj_basico) AS frequencia, YEAR(data_de_inicio_atividade) AS data_de_inicio\n",
    "        FROM empresas_Join_View\n",
    "        WHERE YEAR(data_de_inicio_atividade) >= 2010\n",
    "        GROUP BY data_de_inicio\n",
    "        ORDER BY data_de_inicio       \n",
    "\"\"\")\n",
    "\n",
    "freq.show()"
   ]
  },
  {
   "cell_type": "code",
   "execution_count": 201,
   "metadata": {},
   "outputs": [
    {
     "name": "stderr",
     "output_type": "stream",
     "text": [
      "24/07/15 21:46:55 WARN RowBasedKeyValueBatch: Calling spill() on RowBasedKeyValueBatch. Will not spill but return 0.\n",
      "24/07/15 21:46:55 WARN RowBasedKeyValueBatch: Calling spill() on RowBasedKeyValueBatch. Will not spill but return 0.\n",
      "24/07/15 21:46:55 WARN RowBasedKeyValueBatch: Calling spill() on RowBasedKeyValueBatch. Will not spill but return 0.\n",
      "24/07/15 21:46:55 WARN RowBasedKeyValueBatch: Calling spill() on RowBasedKeyValueBatch. Will not spill but return 0.\n",
      "24/07/15 21:46:55 WARN RowBasedKeyValueBatch: Calling spill() on RowBasedKeyValueBatch. Will not spill but return 0.\n",
      "24/07/15 21:46:55 WARN RowBasedKeyValueBatch: Calling spill() on RowBasedKeyValueBatch. Will not spill but return 0.\n",
      "24/07/15 21:46:55 WARN RowBasedKeyValueBatch: Calling spill() on RowBasedKeyValueBatch. Will not spill but return 0.\n",
      "24/07/15 21:46:55 WARN RowBasedKeyValueBatch: Calling spill() on RowBasedKeyValueBatch. Will not spill but return 0.\n",
      "24/07/15 21:46:55 WARN RowBasedKeyValueBatch: Calling spill() on RowBasedKeyValueBatch. Will not spill but return 0.\n",
      "24/07/15 21:46:55 WARN RowBasedKeyValueBatch: Calling spill() on RowBasedKeyValueBatch. Will not spill but return 0.\n",
      "24/07/15 21:46:55 WARN RowBasedKeyValueBatch: Calling spill() on RowBasedKeyValueBatch. Will not spill but return 0.\n",
      "24/07/15 21:46:55 WARN RowBasedKeyValueBatch: Calling spill() on RowBasedKeyValueBatch. Will not spill but return 0.\n",
      "[Stage 166:===================>                                     (2 + 4) / 6]\r"
     ]
    },
    {
     "name": "stdout",
     "output_type": "stream",
     "text": [
      "+----------+--------------+\n",
      "|frequencia|data_de_inicio|\n",
      "+----------+--------------+\n",
      "|    154159|          2010|\n",
      "|    172677|          2011|\n",
      "|    232480|          2012|\n",
      "|    198424|          2013|\n",
      "|    202276|          2014|\n",
      "|    212523|          2015|\n",
      "|    265417|          2016|\n",
      "|    237292|          2017|\n",
      "|    275435|          2018|\n",
      "|    325922|          2019|\n",
      "|    400654|          2020|\n",
      "|    153275|          2021|\n",
      "|   2830534|         total|\n",
      "+----------+--------------+\n",
      "\n"
     ]
    },
    {
     "name": "stderr",
     "output_type": "stream",
     "text": [
      "                                                                                \r"
     ]
    }
   ],
   "source": [
    "# Exercicio 5 - Calcular a frequencia de CNPJ abertos por ano E unir com um total\n",
    "\n",
    "# Criando a VIEW freq_view\n",
    "freq.createOrReplaceTempView('freq_view')\n",
    "\n",
    "# Comando SQL\n",
    "freq_view = spark.sql(\"\"\"\n",
    "    SELECT *\n",
    "        FROM freq_view\n",
    "    UNION ALL                  \n",
    "    SELECT SUM(frequencia) AS frequencia, 'total' AS data_de_inicio\n",
    "        FROM freq_view    \n",
    "\"\"\")\n",
    "\n",
    "freq_view.show()"
   ]
  },
  {
   "cell_type": "code",
   "execution_count": 202,
   "metadata": {},
   "outputs": [
    {
     "name": "stderr",
     "output_type": "stream",
     "text": [
      "24/07/15 21:47:07 WARN RowBasedKeyValueBatch: Calling spill() on RowBasedKeyValueBatch. Will not spill but return 0.\n",
      "24/07/15 21:47:07 WARN RowBasedKeyValueBatch: Calling spill() on RowBasedKeyValueBatch. Will not spill but return 0.\n",
      "24/07/15 21:47:07 WARN RowBasedKeyValueBatch: Calling spill() on RowBasedKeyValueBatch. Will not spill but return 0.\n",
      "24/07/15 21:47:07 WARN RowBasedKeyValueBatch: Calling spill() on RowBasedKeyValueBatch. Will not spill but return 0.\n",
      "24/07/15 21:47:07 WARN RowBasedKeyValueBatch: Calling spill() on RowBasedKeyValueBatch. Will not spill but return 0.\n",
      "24/07/15 21:47:07 WARN RowBasedKeyValueBatch: Calling spill() on RowBasedKeyValueBatch. Will not spill but return 0.\n",
      "24/07/15 21:47:07 WARN RowBasedKeyValueBatch: Calling spill() on RowBasedKeyValueBatch. Will not spill but return 0.\n",
      "24/07/15 21:47:07 WARN RowBasedKeyValueBatch: Calling spill() on RowBasedKeyValueBatch. Will not spill but return 0.\n",
      "24/07/15 21:47:08 WARN RowBasedKeyValueBatch: Calling spill() on RowBasedKeyValueBatch. Will not spill but return 0.\n",
      "24/07/15 21:47:08 WARN RowBasedKeyValueBatch: Calling spill() on RowBasedKeyValueBatch. Will not spill but return 0.\n",
      "24/07/15 21:47:08 WARN RowBasedKeyValueBatch: Calling spill() on RowBasedKeyValueBatch. Will not spill but return 0.\n",
      "24/07/15 21:47:08 WARN RowBasedKeyValueBatch: Calling spill() on RowBasedKeyValueBatch. Will not spill but return 0.\n"
     ]
    },
    {
     "name": "stdout",
     "output_type": "stream",
     "text": [
      "+--------------+------+\n",
      "|data_de_inicio| count|\n",
      "+--------------+------+\n",
      "|          2010|154159|\n",
      "|          2011|172677|\n",
      "|          2012|232480|\n",
      "|          2013|198424|\n",
      "|          2014|202276|\n",
      "|          2015|212523|\n",
      "|          2016|265417|\n",
      "|          2017|237292|\n",
      "|          2018|275435|\n",
      "|          2019|325922|\n",
      "|          2020|400654|\n",
      "|          2021|153275|\n",
      "+--------------+------+\n",
      "\n"
     ]
    },
    {
     "name": "stderr",
     "output_type": "stream",
     "text": [
      "                                                                                \r"
     ]
    }
   ],
   "source": [
    "# Exemplo 6 - Replicar o Exemplo 4 com comando PySpark\n",
    "\n",
    "# Comando PySpark\n",
    "empresas_join\\\n",
    "    .select(f.year(empresas_join.data_de_inicio_atividade).alias('data_de_inicio'))\\\n",
    "    .where(\"data_de_inicio >= 2010\")\\\n",
    "    .groupBy('data_de_inicio')\\\n",
    "    .count()\\\n",
    "    .orderBy('data_de_inicio')\\\n",
    "    .show()"
   ]
  },
  {
   "cell_type": "markdown",
   "metadata": {},
   "source": [
    "### 2.5 Armazenamento"
   ]
  },
  {
   "cell_type": "markdown",
   "metadata": {},
   "source": [
    "### 2.5.1 Sáida CSV"
   ]
  },
  {
   "cell_type": "code",
   "execution_count": 203,
   "metadata": {},
   "outputs": [
    {
     "name": "stderr",
     "output_type": "stream",
     "text": [
      "                                                                                \r"
     ]
    }
   ],
   "source": [
    "# Criar a pasta de output se não existir\n",
    "Path_out_empresas = 'out_CSV_empresas'\n",
    "\n",
    "if not os.path.exists(Path_out_empresas):\n",
    "    os.makedirs(Path_out_empresas)\n",
    "\n",
    "# Realizando o output de empresas\n",
    "empresas.write.csv(\n",
    "    path=Path_out_empresas,\n",
    "    mode='overwrite',\n",
    "    sep=';',\n",
    "    header=True\n",
    ")"
   ]
  },
  {
   "cell_type": "code",
   "execution_count": 204,
   "metadata": {},
   "outputs": [
    {
     "name": "stderr",
     "output_type": "stream",
     "text": [
      "                                                                                \r"
     ]
    }
   ],
   "source": [
    "# Criar a pasta de output se não existir\n",
    "Path_out_estabelecimentos = 'out_CSV_estabelecimentos'\n",
    "\n",
    "if not os.path.exists(Path_out_estabelecimentos):\n",
    "    os.makedirs(Path_out_estabelecimentos)\n",
    "\n",
    "# Realizando o output de empresas\n",
    "estabelecimentos.write.csv(\n",
    "    path=Path_out_estabelecimentos,\n",
    "    mode='overwrite',\n",
    "    sep=';',\n",
    "    header=True\n",
    ")"
   ]
  },
  {
   "cell_type": "code",
   "execution_count": 205,
   "metadata": {},
   "outputs": [
    {
     "name": "stderr",
     "output_type": "stream",
     "text": [
      "                                                                                \r"
     ]
    }
   ],
   "source": [
    "# Criar a pasta de output se não existir\n",
    "Path_out_socios = 'out_CSV_socios'\n",
    "\n",
    "if not os.path.exists(Path_out_socios):\n",
    "    os.makedirs(Path_out_socios)\n",
    "\n",
    "# Realizando o output de empresas\n",
    "socios.write.csv(\n",
    "    path=Path_out_socios,\n",
    "    mode='overwrite',\n",
    "    sep=';',\n",
    "    header=True\n",
    ")"
   ]
  },
  {
   "cell_type": "code",
   "execution_count": 206,
   "metadata": {},
   "outputs": [
    {
     "name": "stderr",
     "output_type": "stream",
     "text": [
      "[Stage 201:=================================>                      (6 + 4) / 10]\r"
     ]
    },
    {
     "name": "stdout",
     "output_type": "stream",
     "text": [
      "+-----------+-----------------------------+-----------------+---------------------------+-------------------------+----------------+---------------------------+\n",
      "|cnpj_basico|razao_social_nome_empresarial|natureza_juridica|qualificacao_do_responsavel|capital_social_da_empresa|porte_da_empresa|ente_federativo_responsavel|\n",
      "+-----------+-----------------------------+-----------------+---------------------------+-------------------------+----------------+---------------------------+\n",
      "|        306|         FRANCAMAR REFRIGE...|             2240|                         49|                      0.0|               1|                       NULL|\n",
      "|       1355|         BRASILEIRO & OLIV...|             2062|                         49|                      0.0|               5|                       NULL|\n",
      "|       4820|         REGISTRO DE IMOVE...|             3034|                         32|                      0.0|               5|                       NULL|\n",
      "|       5347|         ROSELY APARECIDA ...|             2135|                         50|                      0.0|               5|                       NULL|\n",
      "|       6846|         BADU E FILHOS TEC...|             2062|                         49|                   4000.0|               1|                       NULL|\n",
      "+-----------+-----------------------------+-----------------+---------------------------+-------------------------+----------------+---------------------------+\n",
      "only showing top 5 rows\n",
      "\n"
     ]
    },
    {
     "name": "stderr",
     "output_type": "stream",
     "text": [
      "                                                                                \r"
     ]
    }
   ],
   "source": [
    "# Dica - Header (cabeçalho)\n",
    "\n",
    "# Quando o cabeçalho é disponivel devemos usar o argumento header=True para leitura do arquivo\n",
    "empresas_dica = spark.read.csv(Path_out_empresas, sep=';', inferSchema=True, header=True)\n",
    "empresas_dica.show(5)"
   ]
  },
  {
   "cell_type": "markdown",
   "metadata": {},
   "source": [
    "### 2.5.2 Saída PARQUET"
   ]
  },
  {
   "cell_type": "code",
   "execution_count": 207,
   "metadata": {},
   "outputs": [
    {
     "name": "stderr",
     "output_type": "stream",
     "text": [
      "                                                                                \r"
     ]
    }
   ],
   "source": [
    "# Salvando em APACHE PARQUET \n",
    "\n",
    "# Criar a pasta de output se não existir\n",
    "Path_out_empresas = 'out_PARQUET_empresas'\n",
    "\n",
    "if not os.path.exists(Path_out_empresas):\n",
    "    os.makedirs(Path_out_empresas)\n",
    "\n",
    "# Realizando o output de empresas\n",
    "empresas.write.parquet(\n",
    "    path=Path_out_empresas,\n",
    "    mode='overwrite'\n",
    ")"
   ]
  },
  {
   "cell_type": "code",
   "execution_count": 208,
   "metadata": {},
   "outputs": [
    {
     "name": "stderr",
     "output_type": "stream",
     "text": [
      "                                                                                \r"
     ]
    }
   ],
   "source": [
    "# Configurando o modo de rebaseamento de datetime para \"LEGACY\" ou \"CORRECTED\"\n",
    "spark.conf.set(\"spark.sql.parquet.datetimeRebaseModeInWrite\", \"LEGACY\")\n",
    "\n",
    "# ou\n",
    "# spark.conf.set(\"spark.sql.parquet.datetimeRebaseModeInWrite\", \"CORRECTED\")\n",
    "\n",
    "# Salvando em APACHE PARQUET \n",
    "\n",
    "# Criar a pasta de output se não existir\n",
    "Path_out_estabelecimentos = 'out_PARQUET_estabelecimentos'\n",
    "\n",
    "if not os.path.exists(Path_out_estabelecimentos):\n",
    "    os.makedirs(Path_out_estabelecimentos)\n",
    "\n",
    "# Realizando o output de empresas\n",
    "estabelecimentos.write.parquet(\n",
    "    path=Path_out_estabelecimentos,\n",
    "    mode='overwrite'\n",
    ")"
   ]
  },
  {
   "cell_type": "code",
   "execution_count": 209,
   "metadata": {},
   "outputs": [
    {
     "name": "stderr",
     "output_type": "stream",
     "text": [
      "                                                                                \r"
     ]
    }
   ],
   "source": [
    "# Salvando em APACHE PARQUET \n",
    "\n",
    "# Criar a pasta de output se não existir\n",
    "Path_out_socios = 'out_PARQUET_socios'\n",
    "\n",
    "if not os.path.exists(Path_out_socios):\n",
    "    os.makedirs(Path_out_socios)\n",
    "\n",
    "# Realizando o output de empresas\n",
    "socios.write.parquet(\n",
    "    path=Path_out_socios,\n",
    "    mode='overwrite',\n",
    ")"
   ]
  },
  {
   "cell_type": "markdown",
   "metadata": {},
   "source": [
    "# 2.6 PARTICIONAMENTO"
   ]
  },
  {
   "cell_type": "code",
   "execution_count": 210,
   "metadata": {},
   "outputs": [
    {
     "name": "stderr",
     "output_type": "stream",
     "text": [
      "                                                                                \r"
     ]
    }
   ],
   "source": [
    "# Particionamento para salvar o arquivo CSV\n",
    "\n",
    "# Criar a pasta de output se não existir\n",
    "Path_out_empresas = 'out_CSV_empresa_particionamento'\n",
    "\n",
    "if not os.path.exists(Path_out_empresas):\n",
    "    os.makedirs(Path_out_empresas)\n",
    "\n",
    "# Realizando o output de empresas\n",
    "empresas.coalesce(1).write.csv(\n",
    "    path=Path_out_empresas,\n",
    "    mode='overwrite',\n",
    "    sep=';',\n",
    "    header=True\n",
    ")\n",
    "\n",
    "# coalesce(X) X = Quantidade de partições"
   ]
  },
  {
   "cell_type": "code",
   "execution_count": 211,
   "metadata": {},
   "outputs": [
    {
     "name": "stderr",
     "output_type": "stream",
     "text": [
      "                                                                                \r"
     ]
    }
   ],
   "source": [
    "# Salvando em APACHE PARQUET \n",
    "\n",
    "# Criar a pasta de output se não existir\n",
    "Path_out_empresas = 'out_PARQUET_empresas_particionamento'\n",
    "\n",
    "if not os.path.exists(Path_out_empresas):\n",
    "    os.makedirs(Path_out_empresas)\n",
    "\n",
    "# Realizando o output de empresas particionamento pela quantidade de portes que tem na coluna \"porte_da_empresa\"\n",
    "empresas.write.parquet(\n",
    "    path=Path_out_empresas,\n",
    "    mode='overwrite',\n",
    "    partitionBy='porte_da_empresa'\n",
    ")\n",
    "\n",
    "# Outro exemplo desse tipo de particionamento é quando queremos particionar o arquivo pelos tipos de grupos de dados, exemplo:\n",
    "# - Grupos A+B+C+D......, Categorias etc"
   ]
  },
  {
   "cell_type": "code",
   "execution_count": 212,
   "metadata": {},
   "outputs": [],
   "source": [
    "# Encerrar o servidor Apache Spark\n",
    " \n",
    "spark.stop()"
   ]
  },
  {
   "cell_type": "markdown",
   "metadata": {},
   "source": [
    "# 3 - CONCLUSÃO\n",
    "\n",
    "Após este grande estudo sobre Spark é possivel concluir que o spark é um grande aliado para processar grandes massas de dados, em ambiente corporativos o Spark é largamente utilizado para processar dados de sites de compras, app, redes sociais, IoT e etc, o Spark tem uma arquitetura robusta para lidar com grandes quantidades de dados e tem uma interface homem > Máquina simplificada para programar rotinas de modelagem, junções, agragações, cálculos etc com facilidade."
   ]
  }
 ],
 "metadata": {
  "kernelspec": {
   "display_name": "Python 3",
   "language": "python",
   "name": "python3"
  },
  "language_info": {
   "codemirror_mode": {
    "name": "ipython",
    "version": 3
   },
   "file_extension": ".py",
   "mimetype": "text/x-python",
   "name": "python",
   "nbconvert_exporter": "python",
   "pygments_lexer": "ipython3",
   "version": "3.10.12"
  }
 },
 "nbformat": 4,
 "nbformat_minor": 2
}
